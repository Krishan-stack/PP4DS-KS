{
 "cells": [
  {
   "cell_type": "markdown",
   "metadata": {},
   "source": [
    "# Exercise 3: Data Structures, Functions and Loops\n",
    "\n",
    "In this week's exercise, you'll learn how to:\n",
    "\n",
    "1. write functions that manipulate data structures such as lists and dictionaries\n",
    "2. master list comprehension and dict comprehension\n",
    "3. compute operations on matrices represented as lists of lists"
   ]
  },
  {
   "cell_type": "markdown",
   "metadata": {},
   "source": [
    "## Lists"
   ]
  },
  {
   "cell_type": "markdown",
   "metadata": {},
   "source": [
    "### 3.1 Write a Python function to sum all the numbers in a list.\n",
    "\n",
    "Write a function to sum all number in a list without using the `sum()` built-in method. Hint: use a `for..in` cycle instead.\n",
    "\n",
    "Sample list: `[9, 12, 7, 19]`\n",
    "\n",
    "Expected output: 47"
   ]
  },
  {
   "cell_type": "code",
   "execution_count": 1,
   "metadata": {},
   "outputs": [],
   "source": [
    "# Write your function here:\n",
    "def summation(lst):\n",
    "    s = 0\n",
    "    for el in lst:\n",
    "        s += el\n",
    "    return s"
   ]
  },
  {
   "cell_type": "code",
   "execution_count": 2,
   "metadata": {},
   "outputs": [
    {
     "data": {
      "text/plain": [
       "47"
      ]
     },
     "execution_count": 2,
     "metadata": {},
     "output_type": "execute_result"
    }
   ],
   "source": [
    "# Test your function here\n",
    "a = summation([9, 12, 7, 19])\n",
    "a"
   ]
  },
  {
   "cell_type": "markdown",
   "metadata": {},
   "source": [
    "### 3.2 Write a Python program to count the number of elements in a list within a specified range.\n",
    "\n",
    "Sample list: `[10,20,30,40,40,40,70,80,99]`\n",
    "\n",
    "Sample min: `15`\n",
    "\n",
    "Sample max: `50`\n",
    "\n",
    "Expected output: `5`"
   ]
  },
  {
   "cell_type": "code",
   "execution_count": 3,
   "metadata": {},
   "outputs": [],
   "source": [
    "# Write your function here:\n",
    "def count_by_range(li, min_, max_):\n",
    "    counter = 0\n",
    "    for el in li:\n",
    "        if el >= min_ and el <= max_:\n",
    "            counter +=1\n",
    "    return counter"
   ]
  },
  {
   "cell_type": "code",
   "execution_count": 4,
   "metadata": {},
   "outputs": [
    {
     "data": {
      "text/plain": [
       "5"
      ]
     },
     "execution_count": 4,
     "metadata": {},
     "output_type": "execute_result"
    }
   ],
   "source": [
    "# Test your function here\n",
    "count_by_range([10,20,30,40,40,40,70,80,99], 15, 50)"
   ]
  },
  {
   "cell_type": "markdown",
   "metadata": {},
   "source": [
    "### 3.3 List Manipulation\n",
    "\n",
    "From the given list:\n",
    "\n",
    "```\n",
    "gadgets = [“Mobile”, “Laptop”, 100, “Camera”, 310.28, “Speakers”, 27.00,\n",
    "“Television”, 1000, “Laptop Case”, “Camera Lens”]\n",
    "```\n",
    "\n",
    "a)create separate lists of strings and numbers.\n",
    " \n",
    "b)Sort the strings list in ascending order\n",
    " \n",
    "c)Sort the strings list in descending order\n",
    " \n",
    "d)Sort the number list from lowest to highest\n",
    " \n",
    "e)Sort the number list from highest to lowest"
   ]
  },
  {
   "cell_type": "code",
   "execution_count": 5,
   "metadata": {},
   "outputs": [
    {
     "name": "stdout",
     "output_type": "stream",
     "text": [
      "['Mobile', 'Laptop', 'Camera', 'Speakers', 'Television', 'Laptop Case', 'Camera Lens']\n",
      "[100, 310.28, 27.0, 1000]\n",
      "['Camera', 'Camera Lens', 'Laptop', 'Laptop Case', 'Mobile', 'Speakers', 'Television']\n",
      "['Television', 'Speakers', 'Mobile', 'Laptop Case', 'Laptop', 'Camera Lens', 'Camera']\n",
      "[27.0, 100, 310.28, 1000]\n",
      "[1000, 310.28, 100, 27.0]\n"
     ]
    }
   ],
   "source": [
    "# Write your solution here:\n",
    "\n",
    "gadgets = [\"Mobile\", \"Laptop\", 100, \"Camera\", 310.28, \"Speakers\", 27.00, \n",
    "           \"Television\", 1000, \"Laptop Case\", \"Camera Lens\"]\n",
    " \n",
    "str_items = []\n",
    " \n",
    "num_items = []\n",
    " \n",
    "for item in gadgets: \n",
    "     \n",
    "    if isinstance(item, str):\n",
    "         \n",
    "        str_items.append(item)\n",
    "         \n",
    "    elif isinstance(item,int) or isinstance(item, float):\n",
    "         \n",
    "        num_items.append(item)\n",
    " \n",
    " \n",
    "#a)creating separate lists\n",
    " \n",
    "print(str_items)\n",
    " \n",
    "print(num_items)\n",
    " \n",
    "#b)sorting strings list in ascending order, a-z\n",
    " \n",
    "str_items.sort(key=str.lower)\n",
    " \n",
    "print(str_items)\n",
    " \n",
    "# c)sorting strings list in descending order z-a\n",
    " \n",
    "str_items.sort(key=str.lower, reverse=True)\n",
    " \n",
    "print(str_items)\n",
    " \n",
    "#d)sorting number list from lowest to highest\n",
    " \n",
    "num_items.sort()\n",
    " \n",
    "print(num_items)\n",
    " \n",
    "#e)sorting number list from highest to lowest\n",
    " \n",
    "num_items.sort(reverse=True)\n",
    " \n",
    "print(num_items)"
   ]
  },
  {
   "cell_type": "markdown",
   "metadata": {},
   "source": [
    "## Dictionaries\n",
    "\n"
   ]
  },
  {
   "cell_type": "markdown",
   "metadata": {},
   "source": [
    "### 3.4 Dictionary manipulation\n",
    "\n",
    "Write a function that takes a dictionary as input and retuns the mean (i.e. average value) of the values stored in the dictionary\n",
    "\n",
    "```\n",
    "Sample Dictionary = Life expectancy by country = {\n",
    "    'Japan': 83.7,\n",
    "    'Switzerland': 83.4,\n",
    "    'Singapore': 83.1,\n",
    "    'Italy': 82.7,\n",
    "    'Israel': 82.5,\n",
    "    'Netherlands': 81.9,\n",
    "    'United Kingdom': 81.2,\n",
    "    'Cyprus': 80.5,\n",
    "    'Chile': 80.5,\n",
    "    'United States: 79.3,\n",
    "    'Argentina': 76.3,\n",
    "    'Iran': 75.5,\n",
    "    'Jordan': 74.1,\n",
    "    'Russia': 70.5,\n",
    "    'Philippines': 68.5,\n",
    "    'India': 68.3\n",
    "}\n",
    "```"
   ]
  },
  {
   "cell_type": "code",
   "execution_count": 6,
   "metadata": {},
   "outputs": [],
   "source": [
    "# Write your function here:\n",
    "def mean_from_dict(input_dict={}):\n",
    "    d_sum = sum(input_dict.values())\n",
    "    return d_sum / len(input_dict.keys()) "
   ]
  },
  {
   "cell_type": "code",
   "execution_count": 7,
   "metadata": {},
   "outputs": [
    {
     "data": {
      "text/plain": [
       "78.25"
      ]
     },
     "execution_count": 7,
     "metadata": {},
     "output_type": "execute_result"
    }
   ],
   "source": [
    "# Test your code here:\n",
    "\n",
    "life_exp_dict = {\n",
    "    'Japan': 83.7,\n",
    "    'Switzerland': 83.4,\n",
    "    'Singapore': 83.1,\n",
    "    'Italy': 82.7,\n",
    "    'Israel': 82.5,\n",
    "    'Netherlands': 81.9,\n",
    "    'United Kingdom': 81.2,\n",
    "    'Cyprus': 80.5,\n",
    "    'Chile': 80.5,\n",
    "    'United States': 79.3,\n",
    "    'Argentina': 76.3,\n",
    "    'Iran': 75.5,\n",
    "    'Jordan': 74.1,\n",
    "    'Russia': 70.5,\n",
    "    'Philippines': 68.5,\n",
    "    'India': 68.3\n",
    "}\n",
    "\n",
    "mean = mean_from_dict(life_exp_dict)\n",
    "mean"
   ]
  },
  {
   "cell_type": "markdown",
   "metadata": {},
   "source": [
    "### 3.5 Dictionary sorting\n",
    "\n",
    "Write a program that sorts by key in descending order (from Z to A) the dictionary of **exercise 3.4**. \n",
    "\n",
    "Hint: inspect the Python built-in functions (https://docs.python.org/3.7/library/functions.html)"
   ]
  },
  {
   "cell_type": "code",
   "execution_count": 8,
   "metadata": {},
   "outputs": [
    {
     "name": "stdout",
     "output_type": "stream",
     "text": [
      "United States: 79.3\n",
      "United Kingdom: 81.2\n",
      "Switzerland: 83.4\n",
      "Singapore: 83.1\n",
      "Russia: 70.5\n",
      "Philippines: 68.5\n",
      "Netherlands: 81.9\n",
      "Jordan: 74.1\n",
      "Japan: 83.7\n",
      "Italy: 82.7\n",
      "Israel: 82.5\n",
      "Iran: 75.5\n",
      "India: 68.3\n",
      "Cyprus: 80.5\n",
      "Chile: 80.5\n",
      "Argentina: 76.3\n"
     ]
    }
   ],
   "source": [
    "# Write your program here\n",
    "\n",
    "for key in sorted(life_exp_dict, reverse=True):\n",
    "    print(\"%s: %s\" % (key, life_exp_dict[key]))"
   ]
  },
  {
   "cell_type": "markdown",
   "metadata": {},
   "source": [
    "### 3.6 Lists to Dictionary\n",
    "\n",
    "Write a program (or function) that maps two lists into a dictionary\n",
    "\n",
    "Sample first list: ```['Japan', 'Italy', 'United Kingdom', 'Russia']```\n",
    "\n",
    "Sample second list: ```[83.7, 82.7, 81.2, 70.5]```"
   ]
  },
  {
   "cell_type": "code",
   "execution_count": 9,
   "metadata": {},
   "outputs": [
    {
     "data": {
      "text/plain": [
       "{'Japan': 83.7, 'Italy': 82.7, 'United Kingdom': 81.2, 'Russia': 70.5}"
      ]
     },
     "execution_count": 9,
     "metadata": {},
     "output_type": "execute_result"
    }
   ],
   "source": [
    "# Write your program here\n",
    "\n",
    "keys = ['Japan', 'Italy', 'United Kingdom', 'Russia']\n",
    "values = [83.7, 82.7, 81.2, 70.5]\n",
    "\n",
    "dictionary = dict(zip(keys, values))\n",
    "dictionary"
   ]
  },
  {
   "cell_type": "markdown",
   "metadata": {},
   "source": [
    "## Tuples"
   ]
  },
  {
   "cell_type": "markdown",
   "metadata": {},
   "source": [
    "### 3.7 Write a Python program to get the 4th element and 4th element from last of a tuple.\n",
    "\n",
    "Sample input\n",
    "\n",
    "```\n",
    "tuplex = (\"we\", 3, \"are\", \"left\", 4.8, \"our\", \"u\", \"www.ox.ac.uk\", \"core\", \"empty\")\n",
    "```"
   ]
  },
  {
   "cell_type": "code",
   "execution_count": 10,
   "metadata": {},
   "outputs": [
    {
     "name": "stdout",
     "output_type": "stream",
     "text": [
      "('we', 3, 'are', 'left', 4.8, 'our', 'u', 'www.ox.ac.uk', 'core', 'empty')\n",
      "left\n",
      "u\n"
     ]
    }
   ],
   "source": [
    "# Write your solution here \n",
    "\n",
    "tuplex = (\"we\", 3, \"are\", \"left\", 4.8, \"our\", \"u\", \"www.ox.ac.uk\", \"core\", \"empty\")\n",
    "print(tuplex)\n",
    "#Get item (4th element)of the tuple by index\n",
    "item = tuplex[3]\n",
    "print(item)\n",
    "#Get item (4th element from last)by index negative\n",
    "item1 = tuplex[-4]\n",
    "print(item1)"
   ]
  },
  {
   "cell_type": "markdown",
   "metadata": {},
   "source": [
    "### 3.8  Write a Python program to convert a list of tuples to a dictionary.\n",
    "\n",
    "Sample input: ```[(28, 'February'), (30, 'April'), (31, 'July'), (31, 'August'), (30, 'November')]```\n",
    "\n",
    "Sample output ```{'February': 28, 'April': 30, 'July': 31, 'August': 31, 'November': 30}```"
   ]
  },
  {
   "cell_type": "code",
   "execution_count": 11,
   "metadata": {},
   "outputs": [
    {
     "name": "stdout",
     "output_type": "stream",
     "text": [
      "{'February': 28, 'April': 30, 'July': 31, 'August': 31, 'November': 30}\n"
     ]
    },
    {
     "data": {
      "text/plain": [
       "{'February': 28, 'April': 30, 'July': 31, 'August': 31, 'November': 30}"
      ]
     },
     "execution_count": 11,
     "metadata": {},
     "output_type": "execute_result"
    }
   ],
   "source": [
    "# Write your program here\n",
    "\n",
    "xtuple = [(28, 'February'), (30, 'April'), (31, 'July'), (31, 'August'), (30, 'November')]\n",
    "\n",
    "# first solution\n",
    "out_dict = {}\n",
    "for v, k in xtuple:\n",
    "    out_dict[k] = v\n",
    "print(out_dict)\n",
    "\n",
    "# soluyion with tuple-comprehension\n",
    "out_dict = dict((y, x) for x, y in xtuple)\n",
    "out_dict"
   ]
  },
  {
   "cell_type": "markdown",
   "metadata": {},
   "source": [
    "## `for` loops, list comprehension, dict comprehension"
   ]
  },
  {
   "cell_type": "markdown",
   "metadata": {},
   "source": [
    "### 3.9 List comprehension\n",
    "\n",
    "Rewrite the following code using list comprehension"
   ]
  },
  {
   "cell_type": "code",
   "execution_count": 12,
   "metadata": {},
   "outputs": [
    {
     "name": "stdout",
     "output_type": "stream",
     "text": [
      "['the', 'quick', 'brown', 'fox', 'jumps', 'over', 'the', 'lazy', 'dog']\n",
      "[5, 5, 3, 5, 4, 4, 3]\n"
     ]
    }
   ],
   "source": [
    "# Code to be rewritten\n",
    "\n",
    "sentence = \"the quick brown fox jumps over the lazy dog\"\n",
    "words = sentence.split()\n",
    "word_lengths = []\n",
    "for word in words:\n",
    "      if word != \"the\":\n",
    "          word_lengths.append(len(word))\n",
    "print(words)\n",
    "print(word_lengths)"
   ]
  },
  {
   "cell_type": "code",
   "execution_count": 13,
   "metadata": {},
   "outputs": [
    {
     "name": "stdout",
     "output_type": "stream",
     "text": [
      "['the', 'quick', 'brown', 'fox', 'jumps', 'over', 'the', 'lazy', 'dog']\n",
      "[5, 5, 3, 5, 4, 4, 3]\n"
     ]
    }
   ],
   "source": [
    "# Write your solution here\n",
    "\n",
    "sentence = \"the quick brown fox jumps over the lazy dog\"\n",
    "words = sentence.split()\n",
    "word_lengths = [len(word) for word in words if word != \"the\"]\n",
    "print(words)\n",
    "print(word_lengths)"
   ]
  },
  {
   "cell_type": "markdown",
   "metadata": {},
   "source": [
    "### 3.10 List filtering\n",
    "\n",
    "Using a list comprehension, create a new list called \"newlist\" out of the list \"numbers\", which contains only the positive numbers from the list, as integers rounded to the closest integer value."
   ]
  },
  {
   "cell_type": "code",
   "execution_count": 14,
   "metadata": {},
   "outputs": [
    {
     "data": {
      "text/plain": [
       "[35, 45, 68, 45, 13]"
      ]
     },
     "execution_count": 14,
     "metadata": {},
     "output_type": "execute_result"
    }
   ],
   "source": [
    "### Input\n",
    "\n",
    "numbers = [34.6, -203.4, 44.9, 68.3, -12.2, 44.6, 12.7]\n",
    "\n",
    "### Write your solution here\n",
    "\n",
    "newlist = [round(el) for el in numbers if el > 0]\n",
    "newlist"
   ]
  },
  {
   "cell_type": "markdown",
   "metadata": {},
   "source": [
    "### 3.11 Matrix Element Wise-multiplication\n",
    "\n",
    "Matrices can be encoded as numerical two-dimensional lists\n",
    "Consider the two following matrices \n",
    "\n",
    "```\n",
    "mat_00 = [[1, 2, 3], [4, 5, 6], [7, 8, 9]]\n",
    "```\n",
    "and\n",
    "```\n",
    "mat_01 = [[1, 0, 0], [0, 1, 0], [0, 0, 1]]\n",
    "```\n",
    "\n",
    "Compute the element-wise multiplication of the two matrices, i.e.\n",
    "\n",
    "```\n",
    "mat_02 = [[1, 0, 0], [0, 5, 0], [0, 0, 9]]\n",
    "```"
   ]
  },
  {
   "cell_type": "code",
   "execution_count": 15,
   "metadata": {},
   "outputs": [
    {
     "name": "stdout",
     "output_type": "stream",
     "text": [
      "[[1, 0, 0], [0, 5, 0], [0, 0, 9]]\n"
     ]
    }
   ],
   "source": [
    "mat_00 = [[1, 2, 3], [4, 5, 6], [7, 8, 9]]\n",
    "mat_01 = [[1, 0, 0], [0, 1, 0], [0, 0, 1]]\n",
    "\n",
    "## Write your solution here:\n",
    "mat_02 = []\n",
    "for i, row in enumerate(mat_00):\n",
    "    mat_02.append([el * mat_01[i][j] for j, el in enumerate(row)])\n",
    "print(mat_02)                  \n"
   ]
  },
  {
   "cell_type": "markdown",
   "metadata": {},
   "source": [
    "### 3.12 Matrix-Matrix Multiplication\n",
    "\n",
    "Consider the following two matrices\n",
    "\n",
    "```\n",
    "mat_00 = [[2, 1, 3], [1, 1, 2]]\n",
    "```\n",
    "and\n",
    "```\n",
    "A = [[1, 2], [5, 6], [7, 9]]\n",
    "```\n",
    "\n",
    "Compute the matrix multiplication, i.e.:\n",
    "```\n",
    "B = [[28 37] [20 26]]\n",
    "```\n",
    "\n"
   ]
  },
  {
   "cell_type": "code",
   "execution_count": 16,
   "metadata": {},
   "outputs": [
    {
     "name": "stdout",
     "output_type": "stream",
     "text": [
      "[[28, 37], [20, 26]]\n",
      "[[28, 37], [20, 26]]\n",
      "[[28, 37], [20, 26]]\n"
     ]
    }
   ],
   "source": [
    "A = [[2, 1, 3], [1, 1, 2]]\n",
    "B = [[1, 2], [5, 6], [7, 9]]\n",
    "\n",
    "# Write your solution here\n",
    "# Simple solution\n",
    "# iterating by row of A\n",
    "C = [[0, 0], [0, 0]]\n",
    "for i in range(len(A)): \n",
    "  \n",
    "    # iterating by column of B  \n",
    "    for j in range(len(B[0])): \n",
    "  \n",
    "        # iterating by rows of B \n",
    "        for k in range(len(B)): \n",
    "            C[i][j] += A[i][k] * B[k][j]\n",
    "print(C)\n",
    "\n",
    "# mid-level solution without initializing the matrix (works for unkown matrix sizes)\n",
    "C = []\n",
    "for i in range(len(A)):\n",
    "    row = []\n",
    "    for j in range(len(B[0])):\n",
    "        el = sum(A[i][k] * B[k][j] for k in range(len(B)))\n",
    "        row.append(el)\n",
    "    C.append(row)\n",
    "print(C)\n",
    "        \n",
    "# Advanced solution\n",
    "C = [[sum(a * b for a, b in zip(A_row, B_col))  \n",
    "                        for B_col in zip(*B)] \n",
    "                                for A_row in A]\n",
    "print(C)\n"
   ]
  },
  {
   "cell_type": "markdown",
   "metadata": {},
   "source": [
    "### 3.13 Dict comprehension\n",
    "\n",
    "Consider these four lists:\n",
    "```\n",
    "fellowship_names = ['gandalf', 'frodo', 'samwise', 'merry', 'aragorn', 'legolas', 'boromir', 'gimli', 'pippin']\n",
    "```\n",
    "```\n",
    "fellowship_surnames = [\n",
    "    'mithrandir', 'baggins', 'gamgee', 'brandybuck', 'elessar', \n",
    "    'greenleaf', 'son of denethor', 'son of gloin', 'took'\n",
    "]\n",
    "```\n",
    "```\n",
    "fellowship_species = ['maia', 'hobbit', 'hobbit', 'hobbit', 'man', 'elf', 'man', 'dwarf', 'hobbit']\n",
    "```\n",
    "```\n",
    "fellowship_ages = [inf, 51, 36, 37, 88, 800, 41, 140, 29]\n",
    "```\n",
    "\n",
    "1) Produce a dictionary with the mapping `fellowship_name` -> `fellowship_age`, pairing each element with the same index in the two lists\n",
    "\n",
    "2) Produce a dictionary with the mapping `(fellowship_name, fellowship_surname)` -> `fellowship_species`, pairing each element with the same index in the three lists"
   ]
  },
  {
   "cell_type": "code",
   "execution_count": 1,
   "metadata": {},
   "outputs": [
    {
     "name": "stdout",
     "output_type": "stream",
     "text": [
      "{'gandalf': 'mithrandir', 'frodo': 'baggins', 'samwise': 'gamgee', 'merry': 'brandybuck', 'aragorn': 'elessar', 'legolas': 'greenleaf', 'boromir': 'son of denethor', 'gimli': 'son of gloin', 'pippin': 'took'}\n",
      "{('gandalf', 'mithrandir'): inf, ('frodo', 'baggins'): 51, ('samwise', 'gamgee'): 36, ('merry', 'brandybuck'): 37, ('aragorn', 'elessar'): 88, ('legolas', 'greenleaf'): 800, ('boromir', 'son of denethor'): 41, ('gimli', 'son of gloin'): 140, ('pippin', 'took'): 29}\n"
     ]
    }
   ],
   "source": [
    "from math import inf\n",
    "\n",
    "fellowship_names = ['gandalf', 'frodo', 'samwise', 'merry', 'aragorn', \n",
    "                    'legolas', 'boromir', 'gimli', 'pippin']\n",
    "fellowship_surnames = [\n",
    "    'mithrandir', 'baggins', 'gamgee', 'brandybuck', 'elessar', \n",
    "    'greenleaf', 'son of denethor', 'son of gloin', 'took'\n",
    "]\n",
    "fellowship_species = ['maia', 'hobbit', 'hobbit', 'hobbit', 'man', 'elf', 'man', 'dwarf', 'hobbit']\n",
    "\n",
    "fellowship_ages = [inf, 51, 36, 37, 88, 800, 41, 140, 29]\n",
    "\n",
    "# Write your solution here\n",
    "fellowship_tuples = tuple(zip(fellowship_names, fellowship_surnames))\n",
    "fellowship_tuples\n",
    "\n",
    "fellowship_age_dict = {member: age for member, age in fellowship_tuples}\n",
    "\n",
    "fellowship_age_dict = {member: age for member, age in fellowship_tuples}\n",
    "print(fellowship_age_dict)\n",
    "\n",
    "fellowship_age_species_dict = {member: age for member, age in zip(fellowship_tuples, fellowship_ages)}\n",
    "print(fellowship_age_species_dict)"
   ]
  },
  {
   "cell_type": "code",
   "execution_count": null,
   "metadata": {},
   "outputs": [],
   "source": []
  }
 ],
 "metadata": {
  "kernelspec": {
   "display_name": "Python 3",
   "language": "python",
   "name": "python3"
  },
  "language_info": {
   "codemirror_mode": {
    "name": "ipython",
    "version": 3
   },
   "file_extension": ".py",
   "mimetype": "text/x-python",
   "name": "python",
   "nbconvert_exporter": "python",
   "pygments_lexer": "ipython3",
   "version": "3.7.3"
  }
 },
 "nbformat": 4,
 "nbformat_minor": 2
}
