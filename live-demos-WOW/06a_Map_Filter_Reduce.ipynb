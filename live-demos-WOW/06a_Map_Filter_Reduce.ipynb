{
 "cells": [
  {
   "cell_type": "markdown",
   "id": "f4b50fd3",
   "metadata": {},
   "source": [
    "# Map, Filter, and Reduce"
   ]
  },
  {
   "cell_type": "code",
   "execution_count": 6,
   "id": "8b42a80e",
   "metadata": {},
   "outputs": [],
   "source": [
    "from math import sin, cos, tan, pi\n",
    "from functools import reduce\n",
    "from typing import Tuple"
   ]
  },
  {
   "cell_type": "code",
   "execution_count": 7,
   "id": "24047d3a",
   "metadata": {},
   "outputs": [],
   "source": [
    "def compute_trigf(val: float) -> Tuple[float]:\n",
    "    return sin(val), cos(val), tan(val)"
   ]
  },
  {
   "cell_type": "code",
   "execution_count": 8,
   "id": "0407ad88",
   "metadata": {},
   "outputs": [],
   "source": [
    "arr = [0, pi/6, pi/4, pi/3, pi/2, pi, 3*pi/2, 2*pi]"
   ]
  },
  {
   "cell_type": "markdown",
   "id": "b6b127ca",
   "metadata": {},
   "source": [
    "### For loop"
   ]
  },
  {
   "cell_type": "code",
   "execution_count": 9,
   "id": "c0f2cd6f",
   "metadata": {},
   "outputs": [
    {
     "data": {
      "text/plain": [
       "[(0.0, 1.0, 0.0),\n",
       " (0.49999999999999994, 0.8660254037844387, 0.5773502691896256),\n",
       " (0.7071067811865475, 0.7071067811865476, 0.9999999999999999),\n",
       " (0.8660254037844386, 0.5000000000000001, 1.7320508075688767),\n",
       " (1.0, 6.123233995736766e-17, 1.633123935319537e+16),\n",
       " (1.2246467991473532e-16, -1.0, -1.2246467991473532e-16),\n",
       " (-1.0, -1.8369701987210297e-16, 5443746451065123.0),\n",
       " (-2.4492935982947064e-16, 1.0, -2.4492935982947064e-16)]"
      ]
     },
     "execution_count": 9,
     "metadata": {},
     "output_type": "execute_result"
    }
   ],
   "source": [
    "res = []\n",
    "for el in arr:\n",
    "    res.append(compute_trigf(el))\n",
    "res"
   ]
  },
  {
   "cell_type": "markdown",
   "id": "8b840c46",
   "metadata": {},
   "source": [
    "The problem is that append is a side-effect as it modifies an array created outside of the for loop"
   ]
  },
  {
   "cell_type": "markdown",
   "id": "ade997e3",
   "metadata": {},
   "source": [
    "## List comprehension"
   ]
  },
  {
   "cell_type": "code",
   "execution_count": 10,
   "id": "70b94388",
   "metadata": {},
   "outputs": [
    {
     "data": {
      "text/plain": [
       "[(0.0, 1.0, 0.0),\n",
       " (0.49999999999999994, 0.8660254037844387, 0.5773502691896256),\n",
       " (0.7071067811865475, 0.7071067811865476, 0.9999999999999999),\n",
       " (0.8660254037844386, 0.5000000000000001, 1.7320508075688767),\n",
       " (1.0, 6.123233995736766e-17, 1.633123935319537e+16),\n",
       " (1.2246467991473532e-16, -1.0, -1.2246467991473532e-16),\n",
       " (-1.0, -1.8369701987210297e-16, 5443746451065123.0),\n",
       " (-2.4492935982947064e-16, 1.0, -2.4492935982947064e-16)]"
      ]
     },
     "execution_count": 10,
     "metadata": {},
     "output_type": "execute_result"
    }
   ],
   "source": [
    "res = [compute_trigf(el) for el in arr]\n",
    "res"
   ]
  },
  {
   "cell_type": "markdown",
   "id": "75c7fd1a",
   "metadata": {},
   "source": [
    "## Map\n",
    "\n",
    "`map()` applies a function to all the elements of an iterable (e.g list)"
   ]
  },
  {
   "cell_type": "code",
   "execution_count": 20,
   "id": "11f4f6f4",
   "metadata": {},
   "outputs": [
    {
     "data": {
      "text/plain": [
       "<map at 0x7fcd5e507f70>"
      ]
     },
     "execution_count": 20,
     "metadata": {},
     "output_type": "execute_result"
    }
   ],
   "source": [
    "res = map(compute_trigf, arr)\n",
    "res"
   ]
  },
  {
   "cell_type": "code",
   "execution_count": 21,
   "id": "b0e898a7",
   "metadata": {},
   "outputs": [
    {
     "data": {
      "text/plain": [
       "type"
      ]
     },
     "execution_count": 21,
     "metadata": {},
     "output_type": "execute_result"
    }
   ],
   "source": [
    "type(map)"
   ]
  },
  {
   "cell_type": "code",
   "execution_count": 18,
   "id": "ae917362",
   "metadata": {},
   "outputs": [
    {
     "data": {
      "text/plain": [
       "[(0.0, 1.0, 0.0),\n",
       " (0.49999999999999994, 0.8660254037844387, 0.5773502691896256),\n",
       " (0.7071067811865475, 0.7071067811865476, 0.9999999999999999),\n",
       " (0.8660254037844386, 0.5000000000000001, 1.7320508075688767),\n",
       " (1.0, 6.123233995736766e-17, 1.633123935319537e+16),\n",
       " (1.2246467991473532e-16, -1.0, -1.2246467991473532e-16),\n",
       " (-1.0, -1.8369701987210297e-16, 5443746451065123.0),\n",
       " (-2.4492935982947064e-16, 1.0, -2.4492935982947064e-16)]"
      ]
     },
     "execution_count": 18,
     "metadata": {},
     "output_type": "execute_result"
    }
   ],
   "source": [
    "list(res)"
   ]
  },
  {
   "cell_type": "code",
   "execution_count": 23,
   "id": "d0e108bd",
   "metadata": {},
   "outputs": [
    {
     "data": {
      "text/plain": [
       "((0.0, 1.0, 0.0),\n",
       " (0.49999999999999994, 0.8660254037844387, 0.5773502691896256),\n",
       " (0.7071067811865475, 0.7071067811865476, 0.9999999999999999),\n",
       " (0.8660254037844386, 0.5000000000000001, 1.7320508075688767),\n",
       " (1.0, 6.123233995736766e-17, 1.633123935319537e+16),\n",
       " (1.2246467991473532e-16, -1.0, -1.2246467991473532e-16),\n",
       " (-1.0, -1.8369701987210297e-16, 5443746451065123.0),\n",
       " (-2.4492935982947064e-16, 1.0, -2.4492935982947064e-16))"
      ]
     },
     "execution_count": 23,
     "metadata": {},
     "output_type": "execute_result"
    }
   ],
   "source": [
    "tuple(map(compute_trigf, arr))"
   ]
  },
  {
   "cell_type": "markdown",
   "id": "146cc83f",
   "metadata": {},
   "source": [
    "### Map with `lambda` functions\n",
    "\n",
    "The `lambda` keyword allows you to write short functions inline, stating the arguments and the return value. You should only use it if your function takes less than one argument"
   ]
  },
  {
   "cell_type": "code",
   "execution_count": 26,
   "id": "010c5101",
   "metadata": {},
   "outputs": [
    {
     "data": {
      "text/plain": [
       "[(0.0, 1.0, 0.0),\n",
       " (0.49999999999999994, 0.8660254037844387, 0.5773502691896256),\n",
       " (0.7071067811865475, 0.7071067811865476, 0.9999999999999999),\n",
       " (0.8660254037844386, 0.5000000000000001, 1.7320508075688767),\n",
       " (1.0, 6.123233995736766e-17, 1.633123935319537e+16),\n",
       " (1.2246467991473532e-16, -1.0, -1.2246467991473532e-16),\n",
       " (-1.0, -1.8369701987210297e-16, 5443746451065123.0),\n",
       " (-2.4492935982947064e-16, 1.0, -2.4492935982947064e-16)]"
      ]
     },
     "execution_count": 26,
     "metadata": {},
     "output_type": "execute_result"
    }
   ],
   "source": [
    "list(\n",
    "    map(lambda val: (sin(val), cos(val), tan(val)), arr)\n",
    ")"
   ]
  },
  {
   "cell_type": "markdown",
   "id": "3548c4f7",
   "metadata": {},
   "source": [
    "### Filter"
   ]
  },
  {
   "cell_type": "code",
   "execution_count": 30,
   "id": "6e623da6",
   "metadata": {},
   "outputs": [],
   "source": [
    "from numbers import Number\n",
    "\n",
    "lst_to_filter = [1, 'bye', True, None, 2.5, 10, -6, 14.6, 7]\n",
    "\n",
    "def is_number(val):\n",
    "    return isinstance(val, Number) and not isinstance(val, bool)"
   ]
  },
  {
   "cell_type": "code",
   "execution_count": 31,
   "id": "728642f7",
   "metadata": {},
   "outputs": [
    {
     "data": {
      "text/plain": [
       "<filter at 0x7fcd5e2c0850>"
      ]
     },
     "execution_count": 31,
     "metadata": {},
     "output_type": "execute_result"
    }
   ],
   "source": [
    "filter(is_number, lst_to_filter)"
   ]
  },
  {
   "cell_type": "code",
   "execution_count": 32,
   "id": "697c1db2",
   "metadata": {},
   "outputs": [
    {
     "data": {
      "text/plain": [
       "[1, 2.5, 10, -6, 14.6, 7]"
      ]
     },
     "execution_count": 32,
     "metadata": {},
     "output_type": "execute_result"
    }
   ],
   "source": [
    "list(filter(is_number, lst_to_filter))"
   ]
  },
  {
   "cell_type": "markdown",
   "id": "74c8efe2",
   "metadata": {},
   "source": [
    "## Reduce\n",
    "\n",
    "`reduce()` applies a function of two arguments cumulatively to the items of a sequence,\n",
    "from left to right, so as to reduce the sequence to a single value."
   ]
  },
  {
   "cell_type": "code",
   "execution_count": 33,
   "id": "aeb5c985",
   "metadata": {},
   "outputs": [],
   "source": [
    "lst_to_sum = [1, 2.5, 10, -6, 14.6, 7]"
   ]
  },
  {
   "cell_type": "markdown",
   "id": "53f8d13c",
   "metadata": {},
   "source": [
    "With a for loop"
   ]
  },
  {
   "cell_type": "code",
   "execution_count": 36,
   "id": "4f5f85cb",
   "metadata": {},
   "outputs": [
    {
     "data": {
      "text/plain": [
       "29.1"
      ]
     },
     "execution_count": 36,
     "metadata": {},
     "output_type": "execute_result"
    }
   ],
   "source": [
    "res = 0\n",
    "for el in lst_to_sum:\n",
    "    res += el\n",
    "res"
   ]
  },
  {
   "cell_type": "markdown",
   "id": "7f39ac54",
   "metadata": {},
   "source": [
    "With reduce using an inline function:"
   ]
  },
  {
   "cell_type": "code",
   "execution_count": 38,
   "id": "089061ec",
   "metadata": {},
   "outputs": [],
   "source": [
    "reduce?"
   ]
  },
  {
   "cell_type": "code",
   "execution_count": 35,
   "id": "5cf40a8c",
   "metadata": {},
   "outputs": [
    {
     "data": {
      "text/plain": [
       "29.1"
      ]
     },
     "execution_count": 35,
     "metadata": {},
     "output_type": "execute_result"
    }
   ],
   "source": [
    "reduce(lambda el, prev: prev + el, lst_to_sum, 0)"
   ]
  },
  {
   "cell_type": "code",
   "execution_count": null,
   "id": "d3dc9502",
   "metadata": {},
   "outputs": [],
   "source": []
  }
 ],
 "metadata": {
  "kernelspec": {
   "display_name": "Python 3 (ipykernel)",
   "language": "python",
   "name": "python3"
  },
  "language_info": {
   "codemirror_mode": {
    "name": "ipython",
    "version": 3
   },
   "file_extension": ".py",
   "mimetype": "text/x-python",
   "name": "python",
   "nbconvert_exporter": "python",
   "pygments_lexer": "ipython3",
   "version": "3.8.12"
  }
 },
 "nbformat": 4,
 "nbformat_minor": 5
}
