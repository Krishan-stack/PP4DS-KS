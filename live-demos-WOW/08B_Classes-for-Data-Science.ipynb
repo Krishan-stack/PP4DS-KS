{
 "cells": [
  {
   "cell_type": "markdown",
   "metadata": {},
   "source": [
    "## Classes for Data Science: a linear regression example\n",
    "\n",
    "We will try and do a regression analysis to predict the weight of children from their age. We will generate some fake data for children between 0 and 12 months of age."
   ]
  },
  {
   "cell_type": "code",
   "execution_count": null,
   "metadata": {},
   "outputs": [],
   "source": [
    "import numpy as np"
   ]
  },
  {
   "cell_type": "code",
   "execution_count": null,
   "metadata": {},
   "outputs": [],
   "source": [
    "# generate fake data\n",
    "babies = range(10)\n",
    "months = np.arange(13)\n",
    "AGE_TO_WEIGHT_COEFF: float = 24.7\n",
    "data = [(month, np.dot(month, AGE_TO_WEIGHT_COEFF) + 96 + np.random.normal(loc=0, scale=20))\n",
    "        for month in months\n",
    "        for baby in babies]\n",
    "month_data = [element[0] for element in data]\n",
    "weight_data = [element[1] for element in data]"
   ]
  },
  {
   "cell_type": "code",
   "execution_count": null,
   "metadata": {},
   "outputs": [],
   "source": [
    "fig, axes = plt.subplots(1, 1, figsize=(9, 6))\n",
    "_ = axes.scatter(month_data, weight_data)"
   ]
  },
  {
   "cell_type": "code",
   "execution_count": null,
   "metadata": {},
   "outputs": [],
   "source": [
    "X_pre = np.array(month_data)\n",
    "X_pre = np.c_[np.ones(X_pre.shape[0]), X_pre] # little trick to add vector of 1's\n",
    "y_pre = np.array(weight_data)\n",
    "X_pre"
   ]
  },
  {
   "cell_type": "code",
   "execution_count": null,
   "metadata": {},
   "outputs": [],
   "source": [
    "X = np.array(month_data)\n",
    "print(X)\n",
    "X_0 = np.ones([X.shape[0], 1])\n",
    "X_1 = X[:, np.newaxis]\n",
    "print(X_0)\n",
    "print(X_1)\n",
    "X = np.concatenate((X_0, X_1), axis=1)\n",
    "# X = np.vstack([, ]) # little trick to add vector of 1's\n",
    "y = np.array(weight_data)\n",
    "X"
   ]
  },
  {
   "cell_type": "code",
   "execution_count": null,
   "metadata": {},
   "outputs": [],
   "source": [
    "np.array_equal(X, X_pre)"
   ]
  },
  {
   "cell_type": "code",
   "execution_count": null,
   "metadata": {},
   "outputs": [],
   "source": [
    "def ols(X, y):\n",
    "    '''returns parameters based on Ordinary Least Squares.'''\n",
    "    xtx = np.dot(X.T, X) ## x-transpose times x\n",
    "    inv_xtx = np.linalg.inv(xtx) ## inverse of x-transpose times x\n",
    "    xty = np.dot(X.T, y) ## x-transpose times y\n",
    "    return np.dot(inv_xtx, xty)"
   ]
  },
  {
   "cell_type": "code",
   "execution_count": null,
   "metadata": {},
   "outputs": [],
   "source": [
    "# find parameters\n",
    "params = ols(X,y)\n",
    "print('intercept: {} | slope: {}'.format(params[0], params[1]))"
   ]
  },
  {
   "cell_type": "code",
   "execution_count": null,
   "metadata": {},
   "outputs": [],
   "source": [
    "## here we draw a graph of the linear estimator\n",
    "import matplotlib.pyplot as plt\n",
    "%matplotlib inline\n",
    "\n",
    "fig, axes = plt.subplots(1, 1, figsize=(9, 6))\n",
    "axes.scatter(month_data, weight_data)\n",
    "x_vals = np.array(axes.get_xlim())\n",
    "y_vals = params[0] + params[1] * x_vals\n",
    "axes.plot(x_vals, y_vals, 'r--')\n",
    "plt.title('Linear Regression example')\n",
    "plt.xlabel('Age (Months)')\n",
    "plt.ylabel('Weight (?)')"
   ]
  },
  {
   "cell_type": "code",
   "execution_count": null,
   "metadata": {},
   "outputs": [],
   "source": [
    "class Regressor:\n",
    "    \n",
    "    def fit():\n",
    "        print(\"Regressor.fit() - override me\")\n",
    "        \n",
    "    def predict():\n",
    "        print(\"Regressor.predict() - override me\")\n",
    "\n",
    "class LinearRegressor(Regressor):\n",
    "    \n",
    "    def __init__(self):\n",
    "        self.coef = None\n",
    "        self.slope = None\n",
    "\n",
    "    \n",
    "    def fit(self, X, y):\n",
    "        \"\"\"\n",
    "        Fit model coefficients.\n",
    "\n",
    "        Arguments:\n",
    "        X: 1D or 2D numpy array \n",
    "        y: 1D numpy array\n",
    "        \"\"\"     \n",
    "        # check if X is 1D or 2D array\n",
    "        # if it's 1D add one dimension\n",
    "        ...\n",
    "        # implement the closed form solution for OLS\n",
    "        ...      \n",
    "        # set coef and slope attributes\n",
    "        ...\n",
    "\n",
    "            \n",
    "    def predict(self, X):\n",
    "        \"\"\"\n",
    "        Output model prediction.\n",
    "\n",
    "        Arguments:\n",
    "        X: 1D or 2D numpy array \n",
    "        \"\"\"       \n",
    "        # check if X is 1D or 2D array\n",
    "        if len(X.shape) == 1:\n",
    "            X = X.reshape(-1,1) \n",
    "        return self.intercept + np.dot(X, self.slope)\n",
    "    "
   ]
  },
  {
   "cell_type": "code",
   "execution_count": null,
   "metadata": {},
   "outputs": [],
   "source": [
    "regressor = LinearRegressor()\n",
    "regressor.fit(np.array(month_data), np.array(weight_data))\n",
    "print('intercept: {} | slope: {}'.format(regressor.intercept, regressor.slope))\n",
    "regressor.predict(np.arange(4))"
   ]
  },
  {
   "cell_type": "code",
   "execution_count": null,
   "metadata": {},
   "outputs": [],
   "source": []
  }
 ],
 "metadata": {
  "kernelspec": {
   "display_name": "Python 3",
   "language": "python",
   "name": "python3"
  },
  "language_info": {
   "codemirror_mode": {
    "name": "ipython",
    "version": 3
   },
   "file_extension": ".py",
   "mimetype": "text/x-python",
   "name": "python",
   "nbconvert_exporter": "python",
   "pygments_lexer": "ipython3",
   "version": "3.8.8"
  }
 },
 "nbformat": 4,
 "nbformat_minor": 4
}
