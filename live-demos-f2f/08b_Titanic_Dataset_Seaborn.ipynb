{
 "cells": [
  {
   "cell_type": "markdown",
   "id": "4779b0a5",
   "metadata": {},
   "source": [
    "# Data Visualisation on the Titanic Dataset with Seaborn"
   ]
  },
  {
   "cell_type": "code",
   "execution_count": null,
   "id": "9c143058",
   "metadata": {},
   "outputs": [],
   "source": [
    "import numpy as np\n",
    "import pandas as pd\n",
    "import seaborn as sns"
   ]
  },
  {
   "cell_type": "markdown",
   "id": "fe956133",
   "metadata": {},
   "source": [
    "This time we load the dataset from seaborn directly rather than from a CSV file. As you will notice the data attributes are a bit diffrent here."
   ]
  },
  {
   "cell_type": "code",
   "execution_count": null,
   "id": "bee9af95",
   "metadata": {},
   "outputs": [],
   "source": [
    "titanic_df = sns.load_dataset('titanic')"
   ]
  },
  {
   "cell_type": "markdown",
   "id": "cda3e55a",
   "metadata": {},
   "source": [
    "### Dataset overview"
   ]
  },
  {
   "cell_type": "code",
   "execution_count": null,
   "id": "859dc872",
   "metadata": {},
   "outputs": [],
   "source": [
    "titanic_df.info()"
   ]
  },
  {
   "cell_type": "code",
   "execution_count": null,
   "id": "06024749",
   "metadata": {},
   "outputs": [],
   "source": [
    "titanic_df.sample(10)"
   ]
  },
  {
   "cell_type": "markdown",
   "id": "9a54c815",
   "metadata": {},
   "source": [
    "## Add a categorical variable: age groups"
   ]
  },
  {
   "cell_type": "code",
   "execution_count": null,
   "id": "375ff362",
   "metadata": {},
   "outputs": [],
   "source": [
    "titanic_df.age.value_counts(dropna=False, ascending=False)"
   ]
  },
  {
   "cell_type": "code",
   "execution_count": null,
   "id": "e3531015",
   "metadata": {},
   "outputs": [],
   "source": [
    "bins = [0, 12, 20, 60, np.inf]\n",
    "labels = ['child', 'teenager', 'adult', 'elder']\n",
    "titanic_df['age_group'] = pd.cut(titanic.age, bins, labels=labels)"
   ]
  },
  {
   "cell_type": "code",
   "execution_count": null,
   "id": "44adab6e",
   "metadata": {},
   "outputs": [],
   "source": [
    "titanic_df"
   ]
  },
  {
   "cell_type": "code",
   "execution_count": null,
   "id": "e89bd62c",
   "metadata": {},
   "outputs": [],
   "source": [
    "groups = titanic_df.groupby(['age_group', 'sex'])\n",
    "groups.size()"
   ]
  },
  {
   "cell_type": "markdown",
   "id": "a5f89d43",
   "metadata": {},
   "source": [
    "### Reshaping the dataset with respect to age group: pivoting and aggregating with `df.pivot_table()`\n"
   ]
  },
  {
   "cell_type": "markdown",
   "id": "0cefc623",
   "metadata": {},
   "source": [
    "We want to calculate the median paid fare per embarking town per age group. We can do this using `pd.DataFrame.pivot_table()`.\n",
    "\n",
    "More details on reshaping data frames here: https://pandas.pydata.org/pandas-docs/stable/user_guide/reshaping.html"
   ]
  },
  {
   "cell_type": "code",
   "execution_count": null,
   "id": "02126e3d",
   "metadata": {},
   "outputs": [],
   "source": [
    "titanic_df.pivot_table(\n",
    "    index=\"embark_town\",\n",
    "    columns=\"age_group\",\n",
    "    values=\"fare\",\n",
    "    aggfunc=[np.min, np.median, np.mean, np.max]\n",
    ")"
   ]
  },
  {
   "cell_type": "markdown",
   "id": "8aaae61d",
   "metadata": {},
   "source": [
    "## Visualization with Seaborn\n",
    "\n",
    "### Catplot\n",
    "\n",
    "Docs: https://seaborn.pydata.org/generated/seaborn.catplot.html\n",
    "\n",
    "Figure-level interface for drawing categorical plots onto a FacetGrid.\n",
    "\n",
    "This function provides access to several axes-level functions that show the relationship between a numerical and one or more categorical variables using one of several visual representations. The kind parameter selects the underlying axes-level function to use"
   ]
  },
  {
   "cell_type": "code",
   "execution_count": null,
   "id": "92d7ca01",
   "metadata": {},
   "outputs": [],
   "source": [
    "sns.catplot(\"sex\",kind=\"count\",data=titanic_df)"
   ]
  },
  {
   "cell_type": "markdown",
   "id": "1a60ab74",
   "metadata": {},
   "source": [
    "To plot an additional variable (i.e. the class) we can use `hue`."
   ]
  },
  {
   "cell_type": "code",
   "execution_count": null,
   "id": "d1ecb131",
   "metadata": {},
   "outputs": [],
   "source": [
    "sns.catplot(\"sex\", kind=\"count\", hue=\"pclass\", data=titanic_df)"
   ]
  },
  {
   "cell_type": "code",
   "execution_count": null,
   "id": "cc8192ec",
   "metadata": {},
   "outputs": [],
   "source": [
    "sns.catplot(x=\"pclass\", kind=\"count\", hue=\"sex\", data=titanic_df)"
   ]
  },
  {
   "cell_type": "code",
   "execution_count": null,
   "id": "afd8776a",
   "metadata": {},
   "outputs": [],
   "source": [
    "sns.catplot(x=\"deck\", kind=\"count\", hue=\"sex\", data=titanic_df)"
   ]
  },
  {
   "cell_type": "code",
   "execution_count": null,
   "id": "1f8e78f2",
   "metadata": {},
   "outputs": [],
   "source": [
    "sns.catplot(\n",
    "    x='fare',\n",
    "    y='embarked',\n",
    "    hue=\"sex\",\n",
    "    data=titanic_df,\n",
    "    kind=\"violin\"\n",
    ")"
   ]
  },
  {
   "cell_type": "code",
   "execution_count": null,
   "id": "01db50a4",
   "metadata": {},
   "outputs": [],
   "source": [
    "sns.catplot(\n",
    "    x='fare',\n",
    "    y='embarked',\n",
    "    hue=\"sex\",\n",
    "    data=titanic_df,\n",
    "    kind=\"violin\",\n",
    "    col=\"pclass\",\n",
    "    col_wrap=3,\n",
    "    height=4,\n",
    "    aspect=1,\n",
    "    dodge=True,\n",
    "    palette=\"Set3\",\n",
    "    order=[\"C\", \"Q\", \"S\"]\n",
    "\n",
    ")"
   ]
  },
  {
   "cell_type": "markdown",
   "id": "cdc75d7e",
   "metadata": {},
   "source": [
    "##### Passengers' survival rate\n",
    "\n",
    "Let's see how many passengers have survived."
   ]
  },
  {
   "cell_type": "code",
   "execution_count": null,
   "id": "b450b6a9",
   "metadata": {},
   "outputs": [],
   "source": [
    "titanic_df['survivor'] = titanic_df['survived'].map({0: 'no', 1: 'yes'})"
   ]
  },
  {
   "cell_type": "code",
   "execution_count": null,
   "id": "7231dd22",
   "metadata": {},
   "outputs": [],
   "source": [
    "titanic_df.survivor.value_counts()"
   ]
  },
  {
   "cell_type": "code",
   "execution_count": null,
   "id": "49e0cc3d",
   "metadata": {},
   "outputs": [],
   "source": [
    "sns.catplot(x='survivor',data=titanic_df,kind='count',palette='Set1')"
   ]
  },
  {
   "cell_type": "markdown",
   "id": "7b63c5ad",
   "metadata": {},
   "source": [
    "A majority of passengers did not survive. Let's see how this breakout by class:"
   ]
  },
  {
   "cell_type": "code",
   "execution_count": null,
   "id": "3b9b0cb7",
   "metadata": {},
   "outputs": [],
   "source": [
    "sns.catplot(x='pclass', y='survived', kind=\"point\", data=titanic_df)\n"
   ]
  },
  {
   "cell_type": "markdown",
   "id": "ab8b13fd",
   "metadata": {},
   "source": [
    "Third class definetly have lowest survival rate. Let's see how this spliy by age group"
   ]
  },
  {
   "cell_type": "code",
   "execution_count": null,
   "id": "aa1d135b",
   "metadata": {},
   "outputs": [],
   "source": [
    "sns.catplot(x='pclass', y='survived', hue=\"sex\", kind=\"point\", data=titanic_df)"
   ]
  },
  {
   "cell_type": "markdown",
   "id": "aedb005c",
   "metadata": {},
   "source": [
    "Female passengers had been prioritized.\n",
    "\n",
    "##### Passengers' survival with respect to their deck"
   ]
  },
  {
   "cell_type": "code",
   "execution_count": null,
   "id": "d04d83f1",
   "metadata": {},
   "outputs": [],
   "source": [
    "sns.catplot(\n",
    "    x='survivor',\n",
    "    col='deck',\n",
    "    col_wrap=4,\n",
    "    data=titanic_df[titanic_df.deck.notnull()],\n",
    "    kind=\"count\",\n",
    "    height=3.5,\n",
    "    aspect=.9,\n",
    "    palette='rocket'\n",
    ")"
   ]
  },
  {
   "cell_type": "markdown",
   "id": "4aa86f5e",
   "metadata": {},
   "source": [
    "We don't have many data points but it seems quite clear that people on deck A and deck G had a higher mortality rathe than people on deck B or D.\n",
    "\n",
    "We'd need some statistical test to confirm whether this is statistically significant. More on this on week 10.\n",
    "\n",
    "##### Did having family members onboard affect your survival chances?"
   ]
  },
  {
   "cell_type": "code",
   "execution_count": null,
   "id": "1c430b3e",
   "metadata": {},
   "outputs": [],
   "source": [
    "sns.catplot(x='alone', kind=\"count\", hue='survivor', data=titanic_df, palette='rocket')"
   ]
  },
  {
   "cell_type": "markdown",
   "id": "9049cd8e",
   "metadata": {},
   "source": [
    "It did."
   ]
  },
  {
   "cell_type": "markdown",
   "id": "0cadde0d",
   "metadata": {},
   "source": [
    "##### Age histogram (with kde fit)"
   ]
  },
  {
   "cell_type": "code",
   "execution_count": null,
   "id": "a3afc731",
   "metadata": {},
   "outputs": [],
   "source": [
    "sns.histplot(x='age', kde=True, data=titanic_df)"
   ]
  },
  {
   "cell_type": "markdown",
   "id": "34741167",
   "metadata": {},
   "source": [
    "#### FacetGrid \n",
    "\n",
    "If we wanted to break down a plot (e.g. the last one) by some categories, we needn't perform boolean queries, nor groupbys, we can use FacetGrid."
   ]
  },
  {
   "cell_type": "code",
   "execution_count": null,
   "id": "4711c108",
   "metadata": {},
   "outputs": [],
   "source": [
    "g = sns.FacetGrid(titanic_df, row='survivor', col='class')\n",
    "g.map(sns.histplot, \"age\")"
   ]
  },
  {
   "cell_type": "markdown",
   "id": "1a992c56",
   "metadata": {},
   "source": [
    "##### Jointplot\n",
    "\n",
    "This method is used to display data points according to two variables, along with both their distributions, kernel density estimators, and an optional regression that fits the data. With reg we indicate that we want a regression fit to the data."
   ]
  },
  {
   "cell_type": "code",
   "execution_count": null,
   "id": "00e50c12",
   "metadata": {},
   "outputs": [],
   "source": [
    "sns.jointplot(data=titanic, x='age', y='fare', kind='reg', color='g')"
   ]
  },
  {
   "cell_type": "markdown",
   "id": "23326b79",
   "metadata": {},
   "source": [
    "##### Heatmap \n",
    "\n",
    "Heatmaps are ideal to plot \"rectangular data\" such as matrixes. \n",
    "\n",
    "They're great to visualize when some values, or calculated values, such as averages, counts, etc. are more extreme."
   ]
  },
  {
   "cell_type": "code",
   "execution_count": null,
   "id": "affda6eb",
   "metadata": {},
   "outputs": [],
   "source": [
    "titanic_pivoted_df = titanic_df.pivot_table(\n",
    "    index=\"embark_town\",\n",
    "    columns=\"age_group\",\n",
    "    values=\"fare\",\n",
    "    aggfunc=np.median\n",
    ")"
   ]
  },
  {
   "cell_type": "code",
   "execution_count": null,
   "id": "9895ec72",
   "metadata": {},
   "outputs": [],
   "source": [
    "sns.heatmap(titanic_pivoted_df, annot=True, fmt=\".1f\")"
   ]
  },
  {
   "cell_type": "markdown",
   "id": "4032ef0f",
   "metadata": {},
   "source": [
    "You can also use a heatmap to visualise a correlation matrix."
   ]
  },
  {
   "cell_type": "code",
   "execution_count": null,
   "id": "7e46e1a6",
   "metadata": {},
   "outputs": [],
   "source": [
    "sns.heatmap(titanic.corr(), annot=True, fmt=\".2f\")"
   ]
  },
  {
   "cell_type": "code",
   "execution_count": null,
   "id": "6dc3f343",
   "metadata": {},
   "outputs": [],
   "source": []
  }
 ],
 "metadata": {
  "kernelspec": {
   "display_name": "Python 3",
   "language": "python",
   "name": "python3"
  },
  "language_info": {
   "codemirror_mode": {
    "name": "ipython",
    "version": 3
   },
   "file_extension": ".py",
   "mimetype": "text/x-python",
   "name": "python",
   "nbconvert_exporter": "python",
   "pygments_lexer": "ipython3",
   "version": "3.8.8"
  }
 },
 "nbformat": 4,
 "nbformat_minor": 5
}
