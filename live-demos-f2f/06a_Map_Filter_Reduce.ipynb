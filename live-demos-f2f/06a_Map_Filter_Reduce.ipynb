{
 "cells": [
  {
   "cell_type": "markdown",
   "id": "f4b50fd3",
   "metadata": {},
   "source": [
    "# Map, Filter, and Reduce"
   ]
  },
  {
   "cell_type": "code",
   "execution_count": null,
   "id": "8b42a80e",
   "metadata": {},
   "outputs": [],
   "source": [
    "from math import sin, cos, tan, pi\n",
    "from functools import reduce\n",
    "from typing import Tuple"
   ]
  },
  {
   "cell_type": "code",
   "execution_count": null,
   "id": "24047d3a",
   "metadata": {},
   "outputs": [],
   "source": [
    "def compute_trigf(val: float) -> Tuple[float]:\n",
    "    return sin(val), cos(val), tan(val)"
   ]
  },
  {
   "cell_type": "code",
   "execution_count": null,
   "id": "0407ad88",
   "metadata": {},
   "outputs": [],
   "source": [
    "arr = [0, pi/6, pi/4, pi/3, pi/2, pi, 3*pi/2, 2*pi]"
   ]
  },
  {
   "cell_type": "markdown",
   "id": "b6b127ca",
   "metadata": {},
   "source": [
    "### For loop"
   ]
  },
  {
   "cell_type": "code",
   "execution_count": null,
   "id": "c0f2cd6f",
   "metadata": {},
   "outputs": [],
   "source": [
    "res = []\n",
    "for el in arr:\n",
    "    res.append(compute_trigf(el))\n",
    "res"
   ]
  },
  {
   "cell_type": "markdown",
   "id": "8b840c46",
   "metadata": {},
   "source": [
    "The problem is that append is a side-effect as it modifies an array created outside of the for loop"
   ]
  },
  {
   "cell_type": "markdown",
   "id": "ade997e3",
   "metadata": {},
   "source": [
    "## List comprehension"
   ]
  },
  {
   "cell_type": "code",
   "execution_count": null,
   "id": "70b94388",
   "metadata": {},
   "outputs": [],
   "source": [
    "res = [compute_trigf(el) for el in arr]\n",
    "res"
   ]
  },
  {
   "cell_type": "markdown",
   "id": "75c7fd1a",
   "metadata": {},
   "source": [
    "## Map\n",
    "\n",
    "`map()` applies a function to all the elements of an iterable (e.g list)"
   ]
  },
  {
   "cell_type": "code",
   "execution_count": null,
   "id": "11f4f6f4",
   "metadata": {},
   "outputs": [],
   "source": [
    "res = map(compute_trigf, arr)\n",
    "res"
   ]
  },
  {
   "cell_type": "code",
   "execution_count": null,
   "id": "b0e898a7",
   "metadata": {},
   "outputs": [],
   "source": [
    "type(map)"
   ]
  },
  {
   "cell_type": "code",
   "execution_count": null,
   "id": "ae917362",
   "metadata": {},
   "outputs": [],
   "source": [
    "list(res)"
   ]
  },
  {
   "cell_type": "code",
   "execution_count": null,
   "id": "d0e108bd",
   "metadata": {},
   "outputs": [],
   "source": [
    "tuple(map(compute_trigf, arr))"
   ]
  },
  {
   "cell_type": "markdown",
   "id": "146cc83f",
   "metadata": {},
   "source": [
    "### Map with `lambda` functions\n",
    "\n",
    "The `lambda` keyword allows you to write short functions inline, stating the arguments and the return value. You should only use it if your function takes less than one argument"
   ]
  },
  {
   "cell_type": "code",
   "execution_count": null,
   "id": "010c5101",
   "metadata": {},
   "outputs": [],
   "source": [
    "list(\n",
    "    map(lambda val: (sin(val), cos(val), tan(val)), arr)\n",
    ")"
   ]
  },
  {
   "cell_type": "markdown",
   "id": "3548c4f7",
   "metadata": {},
   "source": [
    "### Filter"
   ]
  },
  {
   "cell_type": "code",
   "execution_count": null,
   "id": "6e623da6",
   "metadata": {},
   "outputs": [],
   "source": [
    "from numbers import Number\n",
    "\n",
    "lst_to_filter = [1, 'bye', True, None, 2.5, 10, -6, 14.6, 7]\n",
    "\n",
    "def is_number(val):\n",
    "    return isinstance(val, Number) and not isinstance(val, bool)"
   ]
  },
  {
   "cell_type": "code",
   "execution_count": null,
   "id": "728642f7",
   "metadata": {},
   "outputs": [],
   "source": [
    "filter(is_number, lst_to_filter)"
   ]
  },
  {
   "cell_type": "code",
   "execution_count": null,
   "id": "697c1db2",
   "metadata": {},
   "outputs": [],
   "source": [
    "list(filter(is_number, lst_to_filter))"
   ]
  },
  {
   "cell_type": "markdown",
   "id": "74c8efe2",
   "metadata": {},
   "source": [
    "## Reduce\n",
    "\n",
    "`reduce()` applies a function of two arguments cumulatively to the items of a sequence,\n",
    "from left to right, so as to reduce the sequence to a single value."
   ]
  },
  {
   "cell_type": "code",
   "execution_count": null,
   "id": "aeb5c985",
   "metadata": {},
   "outputs": [],
   "source": [
    "lst_to_sum = [1, 2.5, 10, -6, 14.6, 7]"
   ]
  },
  {
   "cell_type": "markdown",
   "id": "53f8d13c",
   "metadata": {},
   "source": [
    "With a for loop"
   ]
  },
  {
   "cell_type": "code",
   "execution_count": null,
   "id": "4f5f85cb",
   "metadata": {},
   "outputs": [],
   "source": [
    "res = 0\n",
    "for el in lst_to_sum:\n",
    "    res += el\n",
    "res"
   ]
  },
  {
   "cell_type": "markdown",
   "id": "7f39ac54",
   "metadata": {},
   "source": [
    "With reduce using an inline function:"
   ]
  },
  {
   "cell_type": "code",
   "execution_count": null,
   "id": "089061ec",
   "metadata": {},
   "outputs": [],
   "source": [
    "reduce?"
   ]
  },
  {
   "cell_type": "code",
   "execution_count": null,
   "id": "5cf40a8c",
   "metadata": {},
   "outputs": [],
   "source": [
    "reduce(lambda el, prev: prev + el, lst_to_sum, 0)"
   ]
  },
  {
   "cell_type": "code",
   "execution_count": null,
   "id": "d3dc9502",
   "metadata": {},
   "outputs": [],
   "source": []
  }
 ],
 "metadata": {
  "kernelspec": {
   "display_name": "Python 3",
   "language": "python",
   "name": "python3"
  },
  "language_info": {
   "codemirror_mode": {
    "name": "ipython",
    "version": 3
   },
   "file_extension": ".py",
   "mimetype": "text/x-python",
   "name": "python",
   "nbconvert_exporter": "python",
   "pygments_lexer": "ipython3",
   "version": "3.8.8"
  }
 },
 "nbformat": 4,
 "nbformat_minor": 5
}
