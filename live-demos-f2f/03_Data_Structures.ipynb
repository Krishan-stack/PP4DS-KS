{
 "cells": [
  {
   "cell_type": "markdown",
   "id": "07235b64",
   "metadata": {},
   "source": [
    "### Data Structures"
   ]
  },
  {
   "cell_type": "code",
   "execution_count": 1,
   "id": "da507622",
   "metadata": {},
   "outputs": [],
   "source": [
    "metropolitan_areas = [\n",
    "    # (city, country, population, area)\n",
    "    ('Tokyo', 'Japan', 37400068, 13452),\n",
    "    ('Delhi', 'India', 28514000, 3483),\n",
    "    ('Shanghai', 'China', 25582000, 6341),\n",
    "    ('São Paulo', 'Brasil', 21650000, 7947),\n",
    "    ('Mexico City', 'Mexico', 21581000, 7866),\n",
    "    ('Mumbai', 'India', 24400000, 4355),\n",
    "    ('Cairo', 'Egypt', 20076000, 9844),\n",
    "    ('Bejing', 'China', 19618000, 1334)\n",
    "]"
   ]
  },
  {
   "cell_type": "code",
   "execution_count": null,
   "id": "efec5e9e",
   "metadata": {},
   "outputs": [],
   "source": []
  }
 ],
 "metadata": {
  "kernelspec": {
   "display_name": "Python 3",
   "language": "python",
   "name": "python3"
  },
  "language_info": {
   "codemirror_mode": {
    "name": "ipython",
    "version": 3
   },
   "file_extension": ".py",
   "mimetype": "text/x-python",
   "name": "python",
   "nbconvert_exporter": "python",
   "pygments_lexer": "ipython3",
   "version": "3.8.8"
  }
 },
 "nbformat": 4,
 "nbformat_minor": 5
}
