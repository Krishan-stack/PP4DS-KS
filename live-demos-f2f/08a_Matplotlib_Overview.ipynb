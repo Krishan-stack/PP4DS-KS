{
 "cells": [
  {
   "cell_type": "markdown",
   "id": "09f59697",
   "metadata": {},
   "source": [
    "# Overview of Matplotlib"
   ]
  },
  {
   "cell_type": "markdown",
   "id": "dda284f9",
   "metadata": {},
   "source": [
    "## Import"
   ]
  },
  {
   "cell_type": "code",
   "execution_count": null,
   "id": "5c1a8a10",
   "metadata": {},
   "outputs": [],
   "source": [
    "import matplotlib as mpl\n",
    "import matplotlib.pyplot as plt\n",
    "\n",
    "# display matplotlib plots inside the notebook\n",
    "%matplotlib inline"
   ]
  },
  {
   "cell_type": "code",
   "execution_count": null,
   "id": "71e4b379",
   "metadata": {},
   "outputs": [],
   "source": [
    "import numpy as np\n",
    "import pandas as pd\n",
    "\n",
    "pd.set_option('precision', 6)\n",
    "pd.options.display.float_format = '{:.2f}'.format"
   ]
  },
  {
   "cell_type": "markdown",
   "id": "f3e3428e",
   "metadata": {},
   "source": [
    "## Functional Plot"
   ]
  },
  {
   "cell_type": "code",
   "execution_count": null,
   "id": "283c9131",
   "metadata": {},
   "outputs": [],
   "source": [
    "# numpy.linspace(start, stop, num)\n",
    "# Returns num evenly spaced samples, calculated over the interval [start, stop].\n",
    "x_1 = np.linspace(0, 5, 10)\n",
    "y_1 = x_1**3"
   ]
  },
  {
   "cell_type": "code",
   "execution_count": null,
   "id": "99947306",
   "metadata": {},
   "outputs": [],
   "source": [
    "x_1"
   ]
  },
  {
   "cell_type": "code",
   "execution_count": null,
   "id": "36e95579",
   "metadata": {},
   "outputs": [],
   "source": [
    "plt.plot(x_1, y_1)\n",
    "plt.title(\"Cubic Chart\")\n",
    "plt.xlabel(\"Values\")\n",
    "_ = plt.ylabel(\"Cubic Values\")"
   ]
  },
  {
   "cell_type": "markdown",
   "id": "0292f35e",
   "metadata": {},
   "source": [
    "## Figures"
   ]
  },
  {
   "cell_type": "markdown",
   "id": "68a5034c",
   "metadata": {},
   "source": [
    "A figure is a Python object that countains all the plot elements. You can specify width and height in inches\n",
    "\n",
    "It can contain:\n",
    "   * one or more axes\n",
    "   \n",
    "What is an axes object in Matplotlib? The Axes object sets the coordinate system and acts as a container for most of the figure elements."
   ]
  },
  {
   "cell_type": "code",
   "execution_count": null,
   "id": "a3e47134",
   "metadata": {},
   "outputs": [],
   "source": [
    "# create a new figue specifying its width and height in inches\n",
    "my_fig = plt.figure(figsize=(9, 5))\n",
    "\n",
    "# At the moment the figure has no axes. Let's add a new axis\n",
    "# Figure.add_axes([left, bottom, width, height]) The dimensions of the new axes are expressed\n",
    "#    as fractions of the figure width and height\n",
    "# in this case my axis takes 90% of the width and 90% of the height.\n",
    "ax_1 = my_fig.add_axes([0.1, 0.1, 0.9, 0.9])\n",
    "\n",
    "# set axes labels\n",
    "ax_1.set_xlabel(\"Values\")\n",
    "ax_1.set_ylabel(\"Cubic Values\")\n",
    "ax_1.set_title(\"Cubic Chart\")\n",
    "\n",
    "# plot some stuff\n",
    "ax_1.plot(x_1, y_1, label=\"x/x³\")\n",
    "ax_1.plot(y_1, x_1, label=\"x³/x\")\n",
    "# loc = 0 => tries to find out the best location to place the legend\n",
    "# legend position: 1 => upper right, 2 => upper left, 3 => lower right, 2 => lower left, \n",
    "_ = ax_1.legend(loc=0)"
   ]
  },
  {
   "cell_type": "markdown",
   "id": "b60dd857",
   "metadata": {},
   "source": [
    "Let's create a figure with more than one axis"
   ]
  },
  {
   "cell_type": "code",
   "execution_count": null,
   "id": "5b536d65",
   "metadata": {},
   "outputs": [],
   "source": [
    "# same as before\n",
    "new_fig = plt.figure(figsize=(9, 5))\n",
    "ax_1 = new_fig.add_axes([0.1, 0.1, 0.9, 0.9])\n",
    "ax_1.set_xlabel(\"Values\")\n",
    "ax_1.set_ylabel(\"Cubic Values\")\n",
    "ax_1.set_title(\"Cubic Chart\")\n",
    "ax_1.plot(x_1, y_1, label=\"x/x³\")\n",
    "ax_1.plot(y_1, x_1, label=\"x³/x\")\n",
    "ax_1.legend(loc=0)\n",
    "\n",
    "# I am now adding a new axis system to my existing figure\n",
    "ax_2 = new_fig.add_axes([0.45, 0.45, 0.4, 0.4])\n",
    "ax_2.set_xlabel(\"Values\")\n",
    "ax_2.set_ylabel(\"Cubic Values\")\n",
    "ax_2.set_title(\"Cubic Chart\")\n",
    "_ = ax_2.plot(x_1, y_1, 'g')"
   ]
  },
  {
   "cell_type": "markdown",
   "id": "1cdb10b9",
   "metadata": {},
   "source": [
    "I have effectively created a chart inside another chart!"
   ]
  },
  {
   "cell_type": "markdown",
   "id": "a983191b",
   "metadata": {},
   "source": [
    "So far we haven't plotted anything yet. Let's do it now."
   ]
  },
  {
   "cell_type": "markdown",
   "id": "e7def23d",
   "metadata": {},
   "source": [
    "## Subplots\n",
    "\n",
    "You can define more plots with subplots\n"
   ]
  },
  {
   "cell_type": "code",
   "execution_count": null,
   "id": "c464178e",
   "metadata": {},
   "outputs": [],
   "source": [
    "# create a figure with one axis having 3 subplots\n",
    "# our figure/axis has a grid of subplots with 1 row and 3 columns\n",
    "fig, ax = plt.subplots(figsize=(9, 5), nrows=1, ncols=3)\n",
    "\n",
    "# Adjust the padding between and around subplots.\n",
    "plt.tight_layout()\n",
    "\n",
    "ax[1].set_title(\"Plot 2\")\n",
    "ax[1].set_xlabel(\"X\")\n",
    "ax[1].set_ylabel(\"X Cubic\")\n",
    "_ = ax[1].plot(x_1, y_1)"
   ]
  },
  {
   "cell_type": "markdown",
   "id": "c6eaa885",
   "metadata": {},
   "source": [
    "## Appearance Options\n",
    "\n",
    "Default colours (by character):\n",
    "\n",
    "* b: blue\n",
    "* g: green\n",
    "* r: red\n",
    "* c: cyan\n",
    "* m: magenta\n",
    "* y: yellow\n",
    "* k: black\n",
    "* w: white\n",
    "\n",
    "You can also define colours using hexadecimal codes: https://html-color.codes/\n",
    "\n",
    "You can use colour names as standardised: https://www.w3schools.com/colors/colors_names.asp"
   ]
  },
  {
   "cell_type": "code",
   "execution_count": null,
   "id": "66cb84b0",
   "metadata": {},
   "outputs": [],
   "source": [
    "app_fig = plt.figure(figsize=(7, 4))\n",
    "# I am taking all the space inside the figure\n",
    "ax = app_fig.add_axes([0, 0, 1, 1])\n",
    "\n",
    "_ = ax.plot(\n",
    "    x_1,\n",
    "    y_1,\n",
    "    color=\"maroon\",\n",
    "    alpha=.75, # alpha channel (opacity, default 1)\n",
    "    lw= 2.5, # line width (default 1)\n",
    "    ls='-.', # line styles => https://matplotlib.org/stable/gallery/lines_bars_and_markers/linestyles.html\n",
    "    marker='o', # markers, for sampling points = >https://matplotlib.org/stable/api/markers_api.html\n",
    "    markersize=7, # marker size\n",
    "    markerfacecolor='g',\n",
    "    markeredgecolor='m',\n",
    "    markeredgewidth=4\n",
    ")"
   ]
  },
  {
   "cell_type": "markdown",
   "id": "967075e9",
   "metadata": {},
   "source": [
    "Let's suppose I want to \"zoom in\" in an area of my plot, and that I want to add a grid to my background"
   ]
  },
  {
   "cell_type": "code",
   "execution_count": null,
   "id": "75c0827f",
   "metadata": {},
   "outputs": [],
   "source": [
    "app_fig = plt.figure(figsize=(7, 4))\n",
    "# I am taking all the space inside the figure\n",
    "ax = app_fig.add_axes([0, 0, 1, 1])\n",
    "\n",
    "ax.plot(\n",
    "    x_1,\n",
    "    y_1,\n",
    "    color=\"maroon\",\n",
    "    alpha=.75, # alpha channel (opacity, default 1)\n",
    "    lw= 2.5, # line width (default 1)\n",
    "    ls='-.', # line styles => https://matplotlib.org/stable/gallery/lines_bars_and_markers/linestyles.html\n",
    "    marker='o', # markers, for sampling points = >https://matplotlib.org/stable/api/markers_api.html\n",
    "    markersize=7, # marker size\n",
    "    markerfacecolor='g',\n",
    "    markeredgecolor='m',\n",
    "    markeredgewidth=4\n",
    ")\n",
    "\n",
    "ax.set_xlim([0, 2])\n",
    "ax.set_ylim([0, 8])\n",
    "\n",
    "# color grey 60%, dashes of 5 points alternated to 1 point dashes separated by two spaces \n",
    "ax.grid(True, color='0.6', dashes=(5, 2, 1, 2))\n",
    "\n",
    "# annotate a point on the chart\n",
    "_ = ax.annotate(\n",
    "    \"Fourth Marker\",\n",
    "    xy=(x_1[3], y_1[3]), # coordinates of the point to annotate\n",
    "    xytext=(x_1[3] - 0.7, y_1[3]),  # coordinates of where to place the text\n",
    "    arrowprops={   # arrow metadata\n",
    "        'facecolor': 'black',\n",
    "        'shrink': 0.1\n",
    "    }\n",
    ")"
   ]
  },
  {
   "cell_type": "markdown",
   "id": "1b1593ab",
   "metadata": {},
   "source": [
    "## Save figure to a file\n",
    "\n",
    "You can save figures to a variety of formats: png, jpeg, eps, pdf, svg..."
   ]
  },
  {
   "cell_type": "code",
   "execution_count": null,
   "id": "f1c3bf5e",
   "metadata": {},
   "outputs": [],
   "source": [
    "app_fig.savefig('my-plot.png')"
   ]
  },
  {
   "cell_type": "code",
   "execution_count": null,
   "id": "afc4c73e",
   "metadata": {},
   "outputs": [],
   "source": [
    "app_fig.savefig?"
   ]
  },
  {
   "cell_type": "markdown",
   "id": "03ac81f9",
   "metadata": {},
   "source": [
    "## Integration with Pandas"
   ]
  },
  {
   "cell_type": "markdown",
   "id": "6baaa15a",
   "metadata": {},
   "source": [
    "If I want to pass columns from a pandas dataframe to a matplotlib plot I need to extract the numpy array out of the pandas dataframe\n",
    "\n",
    "Another option is to use the `pd.DataFrame.plot()` method that leverages matplotlib under the hood"
   ]
  },
  {
   "cell_type": "markdown",
   "id": "6ce950d1",
   "metadata": {},
   "source": [
    "## Histograms"
   ]
  },
  {
   "cell_type": "code",
   "execution_count": null,
   "id": "975ef0c5",
   "metadata": {},
   "outputs": [],
   "source": [
    "np.random.seed(32)\n",
    "# random arrays with values 1 to 10\n",
    "randarr_1 = np.random.randint(1, 11, 100000)\n",
    "randarr_2 = np.random.randint(1, 11, 100000)\n",
    "randarr_3 = randarr_1 + randarr_2\n",
    "\n",
    "# 45 different combinations (10 choose 2 = 10!/(2!(10-2)!))"
   ]
  },
  {
   "cell_type": "code",
   "execution_count": null,
   "id": "80f7a107",
   "metadata": {},
   "outputs": [],
   "source": [
    "_ = plt.hist(\n",
    "    randarr_3,\n",
    "    bins=19,\n",
    "    density=True, # display the density value\n",
    "    stacked=True\n",
    ")"
   ]
  },
  {
   "cell_type": "code",
   "execution_count": null,
   "id": "17e89c4e",
   "metadata": {},
   "outputs": [],
   "source": [
    "# Some dditional options\n",
    "# range: pass a tuple with interval to be binned and showed\n",
    "# cumulative=True to get a cumulative distribution\n",
    "# histtype=\"step\" => you'll get it as a line plot\n",
    "# orientation => you can set it to \"horizontal\" if you like\n",
    "# color...\n",
    "_ = plt.hist(\n",
    "    randarr_3,\n",
    "    bins=10,\n",
    "    density=True, # display the density value\n",
    "    stacked=True,\n",
    "    range=(5, 15),\n",
    "    color=\"orange\",\n",
    "    histtype=\"step\",\n",
    "    cumulative=True,\n",
    "    orientation=\"horizontal\"\n",
    ")"
   ]
  },
  {
   "cell_type": "markdown",
   "id": "b9f0f2a8",
   "metadata": {},
   "source": [
    "## Bar Charts"
   ]
  },
  {
   "cell_type": "code",
   "execution_count": null,
   "id": "db5f9ce0",
   "metadata": {},
   "outputs": [],
   "source": [
    "# Energy statistics UK 2016\n",
    "total_electricity = 357 # TWh\n",
    "en_types = [\n",
    "    \"Gas\", \"Nuclear\", \"Wind\", \"Coal\", \n",
    "    \"Bio\", \"Solar\", \"Hydro\", \"Oil\"\n",
    "]\n",
    "en_values = [40.2, 20.1, 10.6, 8.6, 8.4, 2.8, 1.5, 7.8]\n",
    "en_variances = [2, 2, 4, 1, 2, 1, 1, 1]"
   ]
  },
  {
   "cell_type": "code",
   "execution_count": null,
   "id": "e248013f",
   "metadata": {},
   "outputs": [],
   "source": [
    "_ = plt.bar(\n",
    "    en_types,\n",
    "    en_values,\n",
    "    color=\"magenta\",\n",
    "    yerr=en_variances\n",
    ")"
   ]
  },
  {
   "cell_type": "code",
   "execution_count": null,
   "id": "b0da5436",
   "metadata": {},
   "outputs": [],
   "source": [
    "_ = plt.barh(\n",
    "    en_types,\n",
    "    en_values,\n",
    "    color=\"green\",\n",
    "    xerr=en_variances\n",
    ")"
   ]
  },
  {
   "cell_type": "markdown",
   "id": "e242e630",
   "metadata": {},
   "source": [
    "#### Engineer Graduates by gender"
   ]
  },
  {
   "cell_type": "code",
   "execution_count": null,
   "id": "a1852a42",
   "metadata": {},
   "outputs": [],
   "source": [
    "# percentage of males and females in engineers\n",
    "eng_males = (76, 85, 86, 88, 93)\n",
    "eng_females = (24, 15, 14, 12, 7)\n",
    "\n",
    "spc = np.arange(5)"
   ]
  },
  {
   "cell_type": "code",
   "execution_count": null,
   "id": "1955aee6",
   "metadata": {},
   "outputs": [],
   "source": [
    "plt.bar(spc, eng_males, width=.475, label=\"% male\", edgecolor=\"k\")\n",
    "plt.bar(spc, eng_females, width=.475, label=\"% female\", edgecolor=\"k\")\n",
    "_ = plt.xticks(spc + 0.475 / 2,(\"Aero\", \"Chem\", \"Civil\", \"Elec\", \"Mech\"))"
   ]
  },
  {
   "cell_type": "markdown",
   "id": "36c6eda4",
   "metadata": {},
   "source": [
    "#### Stacked bar plot examples: teachers by gender"
   ]
  },
  {
   "cell_type": "code",
   "execution_count": null,
   "id": "e11e7875",
   "metadata": {},
   "outputs": [],
   "source": [
    "teaching_type = [\"Kindergarden\", \"Elementary\", \"Secondary\", \"Special Education\"]\n",
    "male_teach_percentages = np.array([2, 20, 44, 14])\n",
    "female_teach_percentages = np.array([98, 80, 56, 86])\n",
    "\n",
    "ind = [x for x, _ in enumerate(teaching_type)]\n",
    "plt.bar(ind, male_teach_percentages, width=0.475, label=\"Male Percentage\", bottom=female_teach_percentages)\n",
    "plt.bar(ind, female_teach_percentages, width=0.475, label=\"Female Percentage\")\n",
    "_ = plt.legend(loc=\"lower right\")"
   ]
  },
  {
   "cell_type": "markdown",
   "id": "4749725d",
   "metadata": {},
   "source": [
    "## Pie Charts"
   ]
  },
  {
   "cell_type": "code",
   "execution_count": null,
   "id": "7c038a24",
   "metadata": {},
   "outputs": [],
   "source": [
    "# Pie chart, where the slices will be ordered and plotted counter-clockwise:\n",
    "labels = 'France', 'Spain', 'Italy', 'Russia'\n",
    "sizes = [15, 30, 45, 10]\n",
    "explode = (0, 0.1, 0, 0)  # only \"explode\" the 2nd slice (i.e. 'Spain')\n",
    "\n",
    "fig1, ax1 = plt.subplots(figsize=(8, 8))\n",
    "ax1.pie(\n",
    "    sizes,\n",
    "    explode=explode,\n",
    "    labels=labels, \n",
    "    autopct='%1.1f%%', # auto labels the percentages in format (you could also pass a function)\n",
    "    shadow=True,   # shadow effect\n",
    "    startangle=90 # custom start angle\n",
    ")\n",
    "ax1.axis('equal')  # Equal aspect ratio ensures that pie is drawn as a circle.\n",
    "\n",
    "plt.show()"
   ]
  },
  {
   "cell_type": "markdown",
   "id": "44b0c01c",
   "metadata": {},
   "source": [
    "#### Doughnut chart\n",
    "\n",
    "The effect of the doughnut shape is achieved by setting a width to the pie's wedges through the wedgeprops argument."
   ]
  },
  {
   "cell_type": "code",
   "execution_count": null,
   "id": "1d4dbc80",
   "metadata": {},
   "outputs": [],
   "source": [
    "fig, ax = plt.subplots()\n",
    "\n",
    "size = 0.6\n",
    "vals = np.array([92, 77, 39])\n",
    "\n",
    "# pick a colour map\n",
    "cmap = mpl.cm.hsv\n",
    "outer_colors = cmap(np.arange(3)*100)\n",
    "\n",
    "ax.pie(\n",
    "    vals,\n",
    "    radius=1,\n",
    "    colors=outer_colors,\n",
    "    wedgeprops=dict(width=size, edgecolor='w')\n",
    ")\n",
    "\n",
    "ax.set(aspect=\"equal\", title='Pie plot with `ax.pie`')\n",
    "plt.show()"
   ]
  },
  {
   "cell_type": "markdown",
   "id": "b1abd858",
   "metadata": {},
   "source": [
    "## Timeseries (?)"
   ]
  },
  {
   "cell_type": "code",
   "execution_count": null,
   "id": "e75465cb",
   "metadata": {},
   "outputs": [],
   "source": [
    "amzn_data = pd.read_csv(\"../datasets/AMZN-quote-history.csv\")\n",
    "amzn_data"
   ]
  },
  {
   "cell_type": "code",
   "execution_count": null,
   "id": "9c9e7b86",
   "metadata": {},
   "outputs": [],
   "source": [
    "amzn_data.info()"
   ]
  },
  {
   "cell_type": "code",
   "execution_count": null,
   "id": "7be27f7a",
   "metadata": {},
   "outputs": [],
   "source": [
    "amzn_data_np = amzn_data.to_numpy()\n",
    "# get the close column\n",
    "amzn_cp = amzn_data_np[:, 4]"
   ]
  },
  {
   "cell_type": "code",
   "execution_count": null,
   "id": "af02cb21",
   "metadata": {},
   "outputs": [],
   "source": [
    "# convert the strings containing the dates to pandas datetime object\n",
    "amzn_dt = pd.to_datetime(amzn_data.Date)\n",
    "amzn_dt.dt.date"
   ]
  },
  {
   "cell_type": "code",
   "execution_count": null,
   "id": "447933ac",
   "metadata": {},
   "outputs": [],
   "source": [
    "fig = plt.figure(figsize=(8, 5))\n",
    "ax = fig.add_axes([0.1, 0.1, 0.9, 0.9])\n",
    "_ = plt.plot(amzn_dt.dt.date.to_numpy(), amzn_cp)"
   ]
  },
  {
   "cell_type": "markdown",
   "id": "84c1a088",
   "metadata": {},
   "source": [
    "## Scatterplots"
   ]
  },
  {
   "cell_type": "code",
   "execution_count": null,
   "id": "23de9831",
   "metadata": {},
   "outputs": [],
   "source": [
    "# country array as of 26 Jan 2022\n",
    "covid_stats = [\n",
    "    # country, total_cases, total_deaths, total_tests, population\n",
    "    (\"USA\",  69808350, 880976, 871652953, 334008890),\n",
    "    (\"India\", 38218773, 487719, 709356830, 1401013398),\n",
    "    (\"Brazil\", 23420861, 621927, 63776166, 214899473), \n",
    "    (\"UK\", 15506750, 152872, 437010764, 68438346),\n",
    "    (\"France\", 15175464, 127869, 216918555, 65497250),\n",
    "    (\"Russia\", 10938261, 324060, 247600000, 146031401), \n",
    "    (\"Turkey\", 10664372, 85253, 126263774, 85744257), \n",
    "    (\"Italy\", 9219391, 142205, 159001733, 60324090), \n",
    "    (\"Spain\", 8676916, 91437, 66213858, 46782833), \n",
    "    (\"Germany\", 8262398, 116868, 89622218, 84198923),\n",
    "    (\"Argentina\", 7446626, 118628, 31095885, 45837991),\n",
    "    (\"Iran\", 6236567, 132152, 43680828, 85657310),\n",
    "    (\"Colombia\", 5624520, 131437, 31355675, 51722642),\n",
    "    (\"Messico\", 4495310, 302112, 13398630, 131030241),\n",
    "    (\"Poland\", 4406553, 103378, 28939723, 37782394),\n",
    "    (\"Indonesia\", 4277644, 144199, 68853446, 278002074),\n",
    "    (\"Ukraine\", 3799382, 98843, 17332435, 43326674),\n",
    "    (\"Netherlands\", 3680896, 21178, 21107399, 17193602),\n",
    "    (\"South Africa\", 3568900, 93707, 21895771, 60466356),\n",
    "    (\"Philippines\", 3324478, 53153, 26468749, 111838951)\n",
    "\n",
    "]"
   ]
  },
  {
   "cell_type": "code",
   "execution_count": null,
   "id": "d3ce3961",
   "metadata": {},
   "outputs": [],
   "source": [
    "covid_stats_df = pd.DataFrame(\n",
    "    data=covid_stats,\n",
    "    columns=[\"country\", \"total_cases\", \"total_deaths\", \"total_tests\", \"population\"]\n",
    ")\n",
    "covid_stats_df"
   ]
  },
  {
   "cell_type": "markdown",
   "id": "33a52190",
   "metadata": {},
   "source": [
    "We need to normalize this data with respect to the country population. Let's do that."
   ]
  },
  {
   "cell_type": "code",
   "execution_count": null,
   "id": "408ad464",
   "metadata": {},
   "outputs": [],
   "source": [
    "covid_stats_df[\"cases/1Mpop\"] = (covid_stats_df.total_cases / covid_stats_df.population) * 1e6\n",
    "covid_stats_df[\"tests/1Mpop\"] = (covid_stats_df.total_tests / covid_stats_df.population) * 1e6\n",
    "covid_stats_df[\"deaths/1Mpop\"] = (covid_stats_df.total_deaths / covid_stats_df.population) * 1e6\n",
    "covid_stats_df"
   ]
  },
  {
   "cell_type": "code",
   "execution_count": null,
   "id": "2f5a22ed",
   "metadata": {},
   "outputs": [],
   "source": [
    "np.random.seed(42)\n",
    "\n",
    "fig = plt.figure(figsize=(10, 7))\n",
    "ax = fig.add_axes([0, 0, 1, 1])\n",
    "ax.set_title(\"Confirmed cases vs. total tests\")\n",
    "ax.set_xlabel(\"Total tests per million\")\n",
    "ax.set_ylabel(\"Confirmed cases per million\")\n",
    "\n",
    "_ = ax.scatter(\n",
    "    covid_stats_df[\"cases/1Mpop\"],\n",
    "    covid_stats_df[\"tests/1Mpop\"],\n",
    "    # \"s\" is the marker/dot size\n",
    "    # normalise dividing by one million to display markers of reasonable size\n",
    "    s=covid_stats_df[\"population\"]/1e6,\n",
    "    c=np.random.rand(len(covid_stats_df)),\n",
    "    alpha=0.5 # to show overlapping dots\n",
    ")\n",
    "\n",
    "for ix, row in covid_stats_df.iterrows():\n",
    "    ax.annotate(row[\"country\"], (row[\"cases/1Mpop\"], row[\"tests/1Mpop\"]))"
   ]
  },
  {
   "cell_type": "markdown",
   "id": "dca12e47",
   "metadata": {},
   "source": [
    "#### Exercise: draw a scatterplot of confirmed cases per million vs. deaths per million."
   ]
  },
  {
   "cell_type": "markdown",
   "id": "fc44feef",
   "metadata": {},
   "source": [
    "## 3D Graphs"
   ]
  },
  {
   "cell_type": "code",
   "execution_count": null,
   "id": "46d6fb20",
   "metadata": {},
   "outputs": [],
   "source": [
    "from mpl_toolkits import mplot3d"
   ]
  },
  {
   "cell_type": "code",
   "execution_count": null,
   "id": "33a9572a",
   "metadata": {},
   "outputs": [],
   "source": [
    "fig = plt.figure(figsize=(8,5), dpi=100)\n",
    "ax3d = fig.add_axes([0.1, 0.1, 0.9, 0.9], projection='3d')"
   ]
  },
  {
   "cell_type": "markdown",
   "id": "faeb873b",
   "metadata": {},
   "source": [
    "### 3D Scatterplot"
   ]
  },
  {
   "cell_type": "code",
   "execution_count": null,
   "id": "0351bd62",
   "metadata": {},
   "outputs": [],
   "source": [
    "fig = plt.figure(figsize=(12, 7), dpi=100)\n",
    "ax3d = fig.add_axes([0.1, 0.1, 0.9, 0.9], projection='3d')\n",
    "\n",
    "ax3d.set_title(\"Confirmed cases vs. total tests\")\n",
    "ax3d.set_xlabel(\"Total tests per million\")\n",
    "ax3d.set_ylabel(\"Confirmed cases per million\")\n",
    "ax3d.set_zlabel(\"Confirmed deaths per million\")\n",
    "\n",
    "ax3d.scatter3D(\n",
    "    covid_stats_df[\"cases/1Mpop\"],\n",
    "    covid_stats_df[\"tests/1Mpop\"],\n",
    "    covid_stats_df[\"deaths/1Mpop\"],\n",
    "    s=covid_stats_df[\"population\"]/1e6,\n",
    "    c=covid_stats_df.country.astype(\"category\").cat.codes,\n",
    "    alpha=0.5 # to show overlapping dots\n",
    ")\n",
    "\n",
    "for ix, row in covid_stats_df.iterrows():\n",
    "    # annotate won't work on 2D\n",
    "    ax3d.text(row[\"cases/1Mpop\"], row[\"tests/1Mpop\"], row[\"deaths/1Mpop\"], row[\"country\"])"
   ]
  },
  {
   "cell_type": "markdown",
   "id": "efa774bd",
   "metadata": {},
   "source": [
    "3D plots are not as easy to interpret as 2D ones. Better to project our graph to a lower dimension!\n",
    "\n",
    "### 3D Contour plot"
   ]
  },
  {
   "cell_type": "code",
   "execution_count": null,
   "id": "d9eb99b6",
   "metadata": {},
   "outputs": [],
   "source": [
    "def z(x, y):\n",
    "    return np.cos(np.sqrt(x**2 + y**2))\n",
    "\n",
    "x_0 = np.linspace(-10, 10, 50)\n",
    "y_0 = np.linspace(-10, 10, 50)\n",
    "\n",
    "# create the 2D rectangular grid out of this two 1D vector\n",
    "x_0, y_0 = np.meshgrid(x_0, y_0)\n",
    "z_0 = z(x_0, y_0)\n",
    "\n",
    "\n",
    "fig = plt.figure(figsize=(12, 7), dpi=100)\n",
    "ax3d = fig.add_axes([0.1, 0.1, 0.9, 0.9], projection='3d')\n",
    "\n",
    "ax3d.view_init(45, 55)\n",
    "_ = ax3d.contour3D(\n",
    "    x_0,\n",
    "    y_0,\n",
    "    z_0,\n",
    "    80, #  levels: determines the number and positions of the contour lines / regions.\n",
    "    cmap=\"Blues\"\n",
    ")"
   ]
  },
  {
   "cell_type": "code",
   "execution_count": null,
   "id": "79d2408d",
   "metadata": {},
   "outputs": [],
   "source": [
    "fig = plt.figure(figsize=(12, 7), dpi=100)\n",
    "ax3d = fig.add_axes([0.1, 0.1, 0.9, 0.9], projection='3d')\n",
    "\n",
    "ax3d.view_init(45, 55)\n",
    "_ = ax3d.contour3D(\n",
    "    x_0,\n",
    "    y_0,\n",
    "    z_0,\n",
    "    40, # fewer labels\n",
    "    cmap=\"Blues\"\n",
    ")"
   ]
  },
  {
   "cell_type": "code",
   "execution_count": null,
   "id": "f976da35",
   "metadata": {},
   "outputs": [],
   "source": [
    "fig = plt.figure(figsize=(12, 7), dpi=100)\n",
    "ax3d = fig.add_axes([0.1, 0.1, 0.9, 0.9], projection='3d')\n",
    "\n",
    "ax3d.view_init(45, 55)\n",
    "_ = ax3d.plot_wireframe(\n",
    "    x_0,\n",
    "    y_0,\n",
    "    z_0,\n",
    "    color=\"green\"\n",
    ")"
   ]
  },
  {
   "cell_type": "code",
   "execution_count": null,
   "id": "9345ebc6",
   "metadata": {},
   "outputs": [],
   "source": [
    "fig = plt.figure(figsize=(12, 7), dpi=100)\n",
    "ax3d = fig.add_axes([0.1, 0.1, 0.9, 0.9], projection='3d')\n",
    "\n",
    "ax3d.view_init(45, 55)\n",
    "_ = ax3d.plot_surface(\n",
    "    x_0,\n",
    "    y_0,\n",
    "    z_0,\n",
    "    rstride=1,\n",
    "    cstride=1,\n",
    "    cmap=\"Blues\",\n",
    "    edgecolor=None\n",
    ")"
   ]
  },
  {
   "cell_type": "markdown",
   "id": "7c400145",
   "metadata": {},
   "source": [
    "## Heatmaps"
   ]
  },
  {
   "cell_type": "code",
   "execution_count": null,
   "id": "922dcd92",
   "metadata": {},
   "outputs": [],
   "source": [
    "vegetables = [\"cucumber\", \"tomato\", \"lettuce\", \"asparagus\",\n",
    "              \"potato\", \"wheat\", \"barley\"]\n",
    "farmers = [\"Farmer Joe\", \"Upland Bros.\", \"Smith Gardening\",\n",
    "           \"Agrifun\", \"Organiculture\", \"BioGoods Ltd.\", \"Cornylee Corp.\"]\n",
    "\n",
    "harvest = np.array([[0.8, 2.4, 2.5, 3.9, 0.0, 4.0, 0.0],\n",
    "                    [2.4, 0.0, 4.0, 1.0, 2.7, 0.0, 0.0],\n",
    "                    [1.1, 2.4, 0.8, 4.3, 1.9, 4.4, 0.0],\n",
    "                    [0.6, 0.0, 0.3, 0.0, 3.1, 0.0, 0.0],\n",
    "                    [0.7, 1.7, 0.6, 2.6, 2.2, 6.2, 0.0],\n",
    "                    [1.3, 1.2, 0.0, 0.0, 0.0, 3.2, 5.1],\n",
    "                    [0.1, 2.0, 0.0, 1.4, 0.0, 1.9, 6.3]])\n",
    "\n",
    "\n",
    "fig, ax = plt.subplots(figsize=(10, 10))\n",
    "im = ax.imshow(harvest)\n",
    "\n",
    "# Show all ticks \n",
    "ax.set_xticks(np.arange(len(farmers)))\n",
    "ax.set_yticks(np.arange(len(vegetables)))\n",
    "\n",
    "# this is needed to lanel all ticks for matplotlib < 3.5\n",
    "ax.set_xticklabels(farmers)\n",
    "ax.set_yticklabels(vegetables)\n",
    "\n",
    "# Rotate the tick labels and set their alignment.\n",
    "# \"setp\" sets one or more properties on the target object(s), in our case the tick labels\n",
    "# see all list of properties for TickLabels here: https://matplotlib.org/stable/api/_as_gen/mpl_toolkits.axisartist.axis_artist.TickLabels.html?highlight=ticklabels\n",
    "plt.setp(\n",
    "    ax.get_xticklabels(),\n",
    "    rotation=45,\n",
    "    ha=\"right\",  # horizontal alignment\n",
    "    rotation_mode=\"anchor\"\n",
    ")\n",
    "\n",
    "# Loop over data dimensions and create text annotations.\n",
    "for ix in range(len(vegetables)):\n",
    "    for jx in range(len(farmers)):\n",
    "        text = ax.text(\n",
    "            jx, ix, harvest[ix, jx],\n",
    "            ha=\"center\", va=\"center\", color=\"w\" # horizontal & vertical alignment, colour\n",
    "        )"
   ]
  }
 ],
 "metadata": {
  "kernelspec": {
   "display_name": "Python 3",
   "language": "python",
   "name": "python3"
  },
  "language_info": {
   "codemirror_mode": {
    "name": "ipython",
    "version": 3
   },
   "file_extension": ".py",
   "mimetype": "text/x-python",
   "name": "python",
   "nbconvert_exporter": "python",
   "pygments_lexer": "ipython3",
   "version": "3.8.8"
  }
 },
 "nbformat": 4,
 "nbformat_minor": 5
}
