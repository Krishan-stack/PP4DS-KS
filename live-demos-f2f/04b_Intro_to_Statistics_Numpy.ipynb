{
 "cells": [
  {
   "cell_type": "markdown",
   "metadata": {},
   "source": [
    "# Intro to Statistics - NumPy"
   ]
  },
  {
   "cell_type": "code",
   "execution_count": 1,
   "metadata": {},
   "outputs": [],
   "source": [
    "import numpy as np\n",
    "import scipy as sp"
   ]
  },
  {
   "cell_type": "markdown",
   "metadata": {},
   "source": [
    "We will have a look at normal distributions using a dataset containing information about heights and weights of 1000 people"
   ]
  },
  {
   "cell_type": "code",
   "execution_count": null,
   "metadata": {},
   "outputs": [],
   "source": [
    "# dataset = np.genfromtxt('../datasets/weight-height.csv', dtype=[('mystring','S5'), ('myfloat_h', 'f8'), ('myfloat_w', 'f8')], names=True)\n",
    "dataset = from_file = np.genfromtxt(\n",
    "    \"../datasets/500_Person_Gender_Height_Weight_Index.csv\",\n",
    "    delimiter=',',\n",
    "    names=True,\n",
    "    dtype=('S8', 'i8', 'i8', 'i8')\n",
    ")\n",
    "dataset.shape\n"
   ]
  },
  {
   "cell_type": "markdown",
   "metadata": {},
   "source": [
    "The dataset as loaded is a structured array\n",
    "\n",
    "Structured arrays are ndarrays whose datatype is a composition of simpler datatypes organized as a sequence of named fields.\n",
    "\n",
    "Structured datatypes are implemented in numpy to have base type `numpy.void`\n",
    "\n",
    "We have to break our structured array in homogeneous arrays."
   ]
  },
  {
   "cell_type": "code",
   "execution_count": null,
   "metadata": {},
   "outputs": [],
   "source": [
    "type(dataset[0])"
   ]
  },
  {
   "cell_type": "code",
   "execution_count": null,
   "metadata": {},
   "outputs": [],
   "source": [
    "dataset"
   ]
  },
  {
   "cell_type": "code",
   "execution_count": null,
   "metadata": {},
   "outputs": [],
   "source": [
    "genders = np.asarray([el[0] for el in dataset])\n",
    "heights = np.asarray([el[1] for el in dataset])\n",
    "weights = np.asarray([el[2] for el in dataset])"
   ]
  },
  {
   "cell_type": "markdown",
   "metadata": {},
   "source": []
  },
  {
   "cell_type": "code",
   "execution_count": null,
   "metadata": {},
   "outputs": [],
   "source": [
    "genders"
   ]
  },
  {
   "cell_type": "code",
   "execution_count": null,
   "metadata": {},
   "outputs": [],
   "source": [
    "heights"
   ]
  },
  {
   "cell_type": "code",
   "execution_count": null,
   "metadata": {},
   "outputs": [],
   "source": [
    "weights"
   ]
  },
  {
   "cell_type": "markdown",
   "metadata": {},
   "source": [
    "## A Histogram with Numpy\n",
    "\n",
    "Let us now visualize the distribution of heights and weights using a histogram"
   ]
  },
  {
   "cell_type": "code",
   "execution_count": null,
   "metadata": {},
   "outputs": [],
   "source": [
    "h_hist, h_bin_edges = np.histogram(heights)\n",
    "w_hist, w_bin_edges = np.histogram(weights)\n",
    "print(h_hist)\n",
    "print(h_bin_edges)"
   ]
  },
  {
   "cell_type": "markdown",
   "metadata": {},
   "source": [
    "## Probability Density Functions (PBFs)\n",
    "\n",
    "A probability density function (PDF) describes the probability of the value of a continuous random variable falling within a range. If the random variable can only have specific values (like throwing dice), a probability mass function (PMF) would be used to describe the probabilities of the outcomes.\n",
    "\n",
    "Famous PBFs are the Gaussian, Exponential, and Laplace density functions\n",
    "\n",
    "Famous PMF are the Poisson, Binomial mass functions\n",
    "\n",
    "### Gaussian Distribution/PBF\n",
    "\n",
    "The Gaussian or normal distribution is the most common PDF (probability density function) for continuous variables."
   ]
  },
  {
   "cell_type": "code",
   "execution_count": null,
   "metadata": {},
   "outputs": [],
   "source": [
    "from scipy.stats import norm\n",
    "from matplotlib import pyplot as plt\n",
    "\n",
    "x = np.arange(-4, 4, 1e-04)\n",
    "plt.plot(x, norm.pdf(x))\n"
   ]
  },
  {
   "cell_type": "markdown",
   "metadata": {},
   "source": [
    "## A Histogram and Kernel Density Estimation (KDE) with SciPy and Matplotlib\n",
    "\n",
    "Kernel density estimation is the process of estimating an unknown probability density function using a kernel function.\n",
    "\n",
    "SciPy offers one KDE estimator to estimate Gaussian density functions. We will see now how we can use it to plot the density function for our height histograms.\n"
   ]
  },
  {
   "cell_type": "code",
   "execution_count": null,
   "metadata": {},
   "outputs": [],
   "source": [
    "from scipy.stats import gaussian_kde\n",
    "h_density = gaussian_kde(heights)"
   ]
  },
  {
   "cell_type": "code",
   "execution_count": null,
   "metadata": {},
   "outputs": [],
   "source": [
    "import matplotlib.pyplot as plt\n",
    "%matplotlib inline\n",
    "\n",
    "fig, ax = plt.subplots(figsize=(8,6))\n",
    "# An \"interface\" to matplotlib.axes.Axes.hist() method\n",
    "ax.hist(\n",
    "  x=heights,\n",
    "  density=True,\n",
    "  bins='auto',\n",
    "  color='#0504aa',\n",
    "  alpha=0.7,\n",
    "  rwidth=0.85\n",
    ")\n",
    "ax.grid(axis='y', alpha=0.75)\n",
    "# set labels, title\n",
    "ax.set_xlabel('Value')\n",
    "ax.set_ylabel('Frequency')\n",
    "ax.set_title('500 subjects height histogram')\n",
    "# add a text \n",
    "# ax.text(55, 0.09, r'$\\mu=15, b=3$')\n",
    "\n",
    "# plot the Kernel Density Distribution on top\n",
    "grid = np.arange(heights.min(), heights.max(), 0.01) # create a linear grid on which to plot the KDE\n",
    "_ = ax.plot(grid, h_density(grid).T, color=\"r\")"
   ]
  },
  {
   "cell_type": "markdown",
   "metadata": {},
   "source": [
    "#### Getting mean and standard deviation for our height distributions:"
   ]
  },
  {
   "cell_type": "code",
   "execution_count": null,
   "metadata": {},
   "outputs": [],
   "source": [
    "h_mean = heights.mean()\n",
    "h_mean"
   ]
  },
  {
   "cell_type": "code",
   "execution_count": null,
   "metadata": {},
   "outputs": [],
   "source": [
    "h_std = heights.std()\n",
    "h_std"
   ]
  },
  {
   "cell_type": "markdown",
   "metadata": {},
   "source": [
    "### Getting Males and Females"
   ]
  },
  {
   "cell_type": "code",
   "execution_count": null,
   "metadata": {},
   "outputs": [],
   "source": [
    "male_gender == b\"Male\""
   ]
  },
  {
   "cell_type": "code",
   "execution_count": null,
   "metadata": {},
   "outputs": [],
   "source": [
    "# partition heights and weights by gender\n"
   ]
  },
  {
   "cell_type": "markdown",
   "metadata": {},
   "source": [
    "### Outlier detection"
   ]
  },
  {
   "cell_type": "code",
   "execution_count": null,
   "metadata": {},
   "outputs": [],
   "source": [
    "def detect_outliers(arr: np.array) -> np.array:\n",
    "    # hint: check np.quantile and np.logical_or functions\n",
    "    upper_quartile = np.quantile(arr, .75)\n",
    "    lower_quartile = np.quantile(arr, .25)\n",
    "    iqr = upper_quartile - lower_quartile\n",
    "    lower_fence = lower_quartile - 1.5*iqr\n",
    "    upper_fence = upper_quartile + 1.5*iqr\n",
    "    print(lower_fence)\n",
    "    print(upper_fence)\n",
    "    is_outlier = np.logical_or(arr < lower_fence, arr > upper_fence)\n",
    "    return is_outlier\n",
    "\n"
   ]
  },
  {
   "cell_type": "code",
   "execution_count": null,
   "metadata": {},
   "outputs": [],
   "source": [
    "mask = detect_outliers(heights)\n",
    "mask"
   ]
  },
  {
   "cell_type": "code",
   "execution_count": null,
   "metadata": {},
   "outputs": [],
   "source": [
    "heights[mask]"
   ]
  },
  {
   "cell_type": "code",
   "execution_count": null,
   "metadata": {},
   "outputs": [],
   "source": [
    "print(np.where(mask == True))\n",
    "print(np.unique(mask, return_counts=True, return_index=True))"
   ]
  },
  {
   "cell_type": "code",
   "execution_count": null,
   "metadata": {},
   "outputs": [],
   "source": [
    "filtered_heights = heights[~mask]\n",
    "filtered_heights.shape"
   ]
  },
  {
   "cell_type": "code",
   "execution_count": null,
   "metadata": {},
   "outputs": [],
   "source": [
    "weights[~mask]\n",
    "genders[~mask]"
   ]
  },
  {
   "cell_type": "code",
   "execution_count": null,
   "metadata": {},
   "outputs": [],
   "source": []
  }
 ],
 "metadata": {
  "kernelspec": {
   "display_name": "Python 3 (ipykernel)",
   "language": "python",
   "name": "python3"
  },
  "language_info": {
   "codemirror_mode": {
    "name": "ipython",
    "version": 3
   },
   "file_extension": ".py",
   "mimetype": "text/x-python",
   "name": "python",
   "nbconvert_exporter": "python",
   "pygments_lexer": "ipython3",
   "version": "3.9.7"
  }
 },
 "nbformat": 4,
 "nbformat_minor": 2
}
