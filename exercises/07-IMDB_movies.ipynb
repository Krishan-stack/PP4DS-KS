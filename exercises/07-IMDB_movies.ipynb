{
 "cells": [
  {
   "cell_type": "markdown",
   "id": "a313129b",
   "metadata": {},
   "source": [
    "# Pandas data manipulation and transformation"
   ]
  },
  {
   "cell_type": "code",
   "execution_count": 30,
   "id": "17aa7cf8",
   "metadata": {},
   "outputs": [],
   "source": [
    "import numpy as np\n",
    "import pandas as pd"
   ]
  },
  {
   "cell_type": "code",
   "execution_count": 31,
   "id": "fa79f23f",
   "metadata": {},
   "outputs": [
    {
     "data": {
      "text/plain": [
       "(1000, 10)"
      ]
     },
     "execution_count": 31,
     "metadata": {},
     "output_type": "execute_result"
    }
   ],
   "source": [
    "imdb_movies = pd.read_csv(\"../datasets/imdb-movies.csv\")\n",
    "imdb_movies.set_index('Rank', inplace=True)\n",
    "imdb_movies.shape"
   ]
  },
  {
   "cell_type": "code",
   "execution_count": 32,
   "id": "6175e2e4",
   "metadata": {},
   "outputs": [
    {
     "data": {
      "text/html": [
       "<div>\n",
       "<style scoped>\n",
       "    .dataframe tbody tr th:only-of-type {\n",
       "        vertical-align: middle;\n",
       "    }\n",
       "\n",
       "    .dataframe tbody tr th {\n",
       "        vertical-align: top;\n",
       "    }\n",
       "\n",
       "    .dataframe thead th {\n",
       "        text-align: right;\n",
       "    }\n",
       "</style>\n",
       "<table border=\"1\" class=\"dataframe\">\n",
       "  <thead>\n",
       "    <tr style=\"text-align: right;\">\n",
       "      <th></th>\n",
       "      <th>Title</th>\n",
       "      <th>Genre</th>\n",
       "      <th>Director</th>\n",
       "      <th>Year</th>\n",
       "      <th>Runtime (Minutes)</th>\n",
       "      <th>Rating</th>\n",
       "      <th>Votes</th>\n",
       "      <th>Revenue (Millions)</th>\n",
       "      <th>Metascore</th>\n",
       "      <th>Actors</th>\n",
       "    </tr>\n",
       "    <tr>\n",
       "      <th>Rank</th>\n",
       "      <th></th>\n",
       "      <th></th>\n",
       "      <th></th>\n",
       "      <th></th>\n",
       "      <th></th>\n",
       "      <th></th>\n",
       "      <th></th>\n",
       "      <th></th>\n",
       "      <th></th>\n",
       "      <th></th>\n",
       "    </tr>\n",
       "  </thead>\n",
       "  <tbody>\n",
       "    <tr>\n",
       "      <th>338</th>\n",
       "      <td>Tracktown</td>\n",
       "      <td>Drama,Sport</td>\n",
       "      <td>Alexi Pappas</td>\n",
       "      <td>2016</td>\n",
       "      <td>88</td>\n",
       "      <td>5.9</td>\n",
       "      <td>115</td>\n",
       "      <td>NaN</td>\n",
       "      <td>64.0</td>\n",
       "      <td>Alexi Pappas, Chase Offerle, Rachel Dratch, An...</td>\n",
       "    </tr>\n",
       "    <tr>\n",
       "      <th>991</th>\n",
       "      <td>Underworld: Rise of the Lycans</td>\n",
       "      <td>Action,Adventure,Fantasy</td>\n",
       "      <td>Patrick Tatopoulos</td>\n",
       "      <td>2009</td>\n",
       "      <td>92</td>\n",
       "      <td>6.6</td>\n",
       "      <td>129708</td>\n",
       "      <td>45.80</td>\n",
       "      <td>44.0</td>\n",
       "      <td>Rhona Mitra, Michael Sheen, Bill Nighy, Steven...</td>\n",
       "    </tr>\n",
       "    <tr>\n",
       "      <th>874</th>\n",
       "      <td>One Day</td>\n",
       "      <td>Drama,Romance</td>\n",
       "      <td>Lone Scherfig</td>\n",
       "      <td>2011</td>\n",
       "      <td>107</td>\n",
       "      <td>7.0</td>\n",
       "      <td>113599</td>\n",
       "      <td>13.77</td>\n",
       "      <td>48.0</td>\n",
       "      <td>Anne Hathaway, Jim Sturgess, Patricia Clarkson...</td>\n",
       "    </tr>\n",
       "    <tr>\n",
       "      <th>669</th>\n",
       "      <td>Pain &amp; Gain</td>\n",
       "      <td>Comedy,Crime,Drama</td>\n",
       "      <td>Michael Bay</td>\n",
       "      <td>2013</td>\n",
       "      <td>129</td>\n",
       "      <td>6.5</td>\n",
       "      <td>168875</td>\n",
       "      <td>49.87</td>\n",
       "      <td>45.0</td>\n",
       "      <td>Mark Wahlberg, Dwayne Johnson, Anthony Mackie,...</td>\n",
       "    </tr>\n",
       "    <tr>\n",
       "      <th>44</th>\n",
       "      <td>The Founder</td>\n",
       "      <td>Biography,Drama,History</td>\n",
       "      <td>John Lee Hancock</td>\n",
       "      <td>2016</td>\n",
       "      <td>115</td>\n",
       "      <td>7.2</td>\n",
       "      <td>37033</td>\n",
       "      <td>12.79</td>\n",
       "      <td>66.0</td>\n",
       "      <td>Michael Keaton, Nick Offerman, John Carroll Ly...</td>\n",
       "    </tr>\n",
       "  </tbody>\n",
       "</table>\n",
       "</div>"
      ],
      "text/plain": [
       "                               Title                     Genre  \\\n",
       "Rank                                                             \n",
       "338                        Tracktown               Drama,Sport   \n",
       "991   Underworld: Rise of the Lycans  Action,Adventure,Fantasy   \n",
       "874                          One Day             Drama,Romance   \n",
       "669                      Pain & Gain        Comedy,Crime,Drama   \n",
       "44                       The Founder   Biography,Drama,History   \n",
       "\n",
       "                Director  Year  Runtime (Minutes)  Rating   Votes  \\\n",
       "Rank                                                                \n",
       "338         Alexi Pappas  2016                 88     5.9     115   \n",
       "991   Patrick Tatopoulos  2009                 92     6.6  129708   \n",
       "874        Lone Scherfig  2011                107     7.0  113599   \n",
       "669          Michael Bay  2013                129     6.5  168875   \n",
       "44      John Lee Hancock  2016                115     7.2   37033   \n",
       "\n",
       "      Revenue (Millions)  Metascore  \\\n",
       "Rank                                  \n",
       "338                  NaN       64.0   \n",
       "991                45.80       44.0   \n",
       "874                13.77       48.0   \n",
       "669                49.87       45.0   \n",
       "44                 12.79       66.0   \n",
       "\n",
       "                                                 Actors  \n",
       "Rank                                                     \n",
       "338   Alexi Pappas, Chase Offerle, Rachel Dratch, An...  \n",
       "991   Rhona Mitra, Michael Sheen, Bill Nighy, Steven...  \n",
       "874   Anne Hathaway, Jim Sturgess, Patricia Clarkson...  \n",
       "669   Mark Wahlberg, Dwayne Johnson, Anthony Mackie,...  \n",
       "44    Michael Keaton, Nick Offerman, John Carroll Ly...  "
      ]
     },
     "execution_count": 32,
     "metadata": {},
     "output_type": "execute_result"
    }
   ],
   "source": [
    "imdb_movies.sample(5)"
   ]
  },
  {
   "cell_type": "markdown",
   "id": "dbce2375",
   "metadata": {},
   "source": [
    "### Question 1: do movies longer tha 2h45 get better scores than movies shorter than 100 mins?"
   ]
  },
  {
   "cell_type": "code",
   "execution_count": null,
   "id": "c1fa133a",
   "metadata": {},
   "outputs": [],
   "source": []
  },
  {
   "cell_type": "markdown",
   "id": "c1dddd4c",
   "metadata": {},
   "source": [
    "### Question 2: which is the director with highest revenue per minute of runtime?"
   ]
  },
  {
   "cell_type": "code",
   "execution_count": null,
   "id": "a88b6dd1",
   "metadata": {},
   "outputs": [],
   "source": []
  },
  {
   "cell_type": "markdown",
   "id": "aae97230",
   "metadata": {},
   "source": [
    "### Question 3: which is the most common movie genre in our dataset between 2007 and 2014?"
   ]
  },
  {
   "cell_type": "code",
   "execution_count": null,
   "id": "e2653552",
   "metadata": {},
   "outputs": [],
   "source": []
  },
  {
   "cell_type": "markdown",
   "id": "0d4f8a69",
   "metadata": {},
   "source": [
    "### Question 4: which is the actor who has appeared in more movies between 2009 and 2015?"
   ]
  },
  {
   "cell_type": "code",
   "execution_count": null,
   "id": "c42e8c0b",
   "metadata": {},
   "outputs": [],
   "source": []
  },
  {
   "cell_type": "code",
   "execution_count": null,
   "id": "ef2a965f",
   "metadata": {},
   "outputs": [],
   "source": []
  },
  {
   "cell_type": "code",
   "execution_count": null,
   "id": "8b4ce504",
   "metadata": {},
   "outputs": [],
   "source": []
  }
 ],
 "metadata": {
  "kernelspec": {
   "display_name": "Python 3",
   "language": "python",
   "name": "python3"
  },
  "language_info": {
   "codemirror_mode": {
    "name": "ipython",
    "version": 3
   },
   "file_extension": ".py",
   "mimetype": "text/x-python",
   "name": "python",
   "nbconvert_exporter": "python",
   "pygments_lexer": "ipython3",
   "version": "3.8.8"
  }
 },
 "nbformat": 4,
 "nbformat_minor": 5
}
