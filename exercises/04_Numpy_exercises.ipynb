{
 "cells": [
  {
   "cell_type": "markdown",
   "metadata": {},
   "source": [
    "# Exercises 04 - NumPy for array manipulation\n",
    "\n",
    "This week we will work with the `numpy` library for numerical manipulations.\n",
    "The reference guide for numpy can be found here: https://docs.scipy.org/doc/numpy-1.16.1/reference/. It is\n",
    "quite huge, but the sections of main interests for us are in the \"routines\" (a synonym for \"functions\") section,\n",
    "in particular:\n",
    "    - Array creation routines\n",
    "    - Array manipulation routines\n",
    "    - Input and output\n",
    "    - Statistics\n",
    "\n",
    "Some exercises have been modified from https://www.machinelearningplus.com/python/101-numpy-exercises-python/. You can try more exercises there, if you like!"
   ]
  },
  {
   "cell_type": "code",
   "execution_count": 1,
   "metadata": {},
   "outputs": [],
   "source": [
    "# Import the NumPy library, using `np` as an alias\n",
    "import numpy as np"
   ]
  },
  {
   "cell_type": "markdown",
   "metadata": {},
   "source": [
    "### 1. Create a 1D array of numbers from 99 to 110 \n",
    "\n",
    "Desired output: ```#> array([99, 100, 101, 102, 103, 104, 105, 106, 107, 108, 109, 110])```"
   ]
  },
  {
   "cell_type": "code",
   "execution_count": 2,
   "metadata": {},
   "outputs": [],
   "source": [
    "# Write your solution here\n",
    "\n"
   ]
  },
  {
   "cell_type": "markdown",
   "metadata": {},
   "source": [
    "### 2. Create a 3x3 numpy array of all False values "
   ]
  },
  {
   "cell_type": "code",
   "execution_count": 3,
   "metadata": {},
   "outputs": [],
   "source": [
    "# Write your solution here\n",
    "\n"
   ]
  },
  {
   "cell_type": "markdown",
   "metadata": {},
   "source": [
    "### 3. Replace all odd numbers in ```arr``` with -1\n",
    "\n",
    "Sample input: ```np.array([0, 1, 2, 3, 4, 5, 6, 7, 8, 9])```\n",
    "\n",
    "Desired output: ```#>  array([ 0, -1,  2, -1,  4, -1,  6, -1,  8, -1])```"
   ]
  },
  {
   "cell_type": "code",
   "execution_count": 4,
   "metadata": {},
   "outputs": [],
   "source": [
    "# Sample input\n",
    "arr = np.array([0, 1, 2, 3, 4, 5, 6, 7, 8, 9])\n",
    "\n",
    "# Write your solution here:\n"
   ]
  },
  {
   "cell_type": "markdown",
   "metadata": {},
   "source": [
    "### 4 Stack two arrays vertically\n",
    "\n"
   ]
  },
  {
   "cell_type": "markdown",
   "metadata": {},
   "source": [
    "Consider these two numpy arrays as input:\n",
    "\n",
    "```\n",
    "a = np.arange(10).reshape(2,-1)\n",
    "b = np.repeat(1, 10).reshape(2,-1)\n",
    "```\n",
    "\n",
    "```\n",
    "a = [[0 1 2 3 4]\n",
    " [5 6 7 8 9]]\n",
    " \n",
    "b = [[1 1 1 1 1]\n",
    " [1 1 1 1 1]]\n",
    "```\n",
    "\n",
    "Desired output:\n",
    "```\n",
    "c = [[0, 1, 2, 3, 4],\n",
    "     [5, 6, 7, 8, 9],\n",
    "     [1, 1, 1, 1, 1],\n",
    "     [1, 1, 1, 1, 1]])\n",
    "```"
   ]
  },
  {
   "cell_type": "code",
   "execution_count": 5,
   "metadata": {},
   "outputs": [],
   "source": [
    "a = np.arange(10).reshape(2,-1)\n",
    "b = np.repeat(1, 10).reshape(2,-1)\n",
    "\n",
    "# Write your solution here"
   ]
  },
  {
   "cell_type": "markdown",
   "metadata": {},
   "source": [
    "## Exercises of data manipulation on the \"500_Person_Gender_Height_Weight_Index\" dataset.\n",
    "\n",
    "We will use a \"500_Person_Gender_Height_Weight_Index\" dataset containing information about height (in cm) and weights (in kg) for 500 subjects, classified by Gender. You can have a look at the dataset here in Kaggle: https://www.kaggle.com/yersever/500-person-gender-height-weight-bodymassindex\n",
    "You do not have to download it though. The CSV (comma separated values) file \n",
    "can be found in the \"datasets\" directory: \n",
    "\n",
    "We are not going to use the Body Mass Index (BMI) information provided in the dataset. \n",
    "We will compute the BMI later on using Numpy.\n",
    "\n",
    "Let's import the \"500_Person_Gender_Height_Weight_Index\" dataset. You can import the dataset keeping the text column intact, passing `dtype`='object' as argument. In this case, though all the numeric values will be stored as bytes. We will have to set the `names` argument to `True` as the first line of the file (the \"header\") contains the column names. \n",
    "\n",
    "Read more details about the textual data importing functions of Numpy here: \n",
    "- `np.loadtxt()`: https://docs.scipy.org/doc/numpy-1.16.1/reference/generated/numpy.loadtxt.html#numpy.loadtxt\n",
    "- `np.genfromtxt()`: https://docs.scipy.org/doc/numpy-1.16.1/reference/generated/numpy.genfromtxt.html#numpy.genfromtxt\n",
    "\n",
    "You can see all the arguments you can supply to the functions. All the arguments that have a default value are\n",
    "optional."
   ]
  },
  {
   "cell_type": "code",
   "execution_count": 6,
   "metadata": {},
   "outputs": [
    {
     "data": {
      "text/plain": [
       "array([(b'Male', b'174', b'96', b'4'), (b'Male', b'189', b'87', b'2'),\n",
       "       (b'Female', b'185', b'110', b'4'),\n",
       "       (b'Female', b'195', b'104', b'3'), (b'Male', b'149', b'61', b'3'),\n",
       "       (b'Male', b'189', b'104', b'3'), (b'Male', b'147', b'92', b'5'),\n",
       "       (b'Male', b'154', b'111', b'5'), (b'Male', b'174', b'90', b'3'),\n",
       "       (b'Female', b'169', b'103', b'4'), (b'Male', b'195', b'81', b'2'),\n",
       "       (b'Female', b'159', b'80', b'4'),\n",
       "       (b'Female', b'192', b'101', b'3'), (b'Male', b'155', b'51', b'2'),\n",
       "       (b'Male', b'191', b'79', b'2'), (b'Female', b'153', b'107', b'5'),\n",
       "       (b'Female', b'157', b'110', b'5'), (b'Male', b'140', b'129', b'5'),\n",
       "       (b'Male', b'144', b'145', b'5'), (b'Male', b'172', b'139', b'5'),\n",
       "       (b'Male', b'157', b'110', b'5'), (b'Female', b'153', b'149', b'5'),\n",
       "       (b'Female', b'169', b'97', b'4'), (b'Male', b'185', b'139', b'5'),\n",
       "       (b'Female', b'172', b'67', b'2'), (b'Female', b'151', b'64', b'3'),\n",
       "       (b'Male', b'190', b'95', b'3'), (b'Male', b'187', b'62', b'1'),\n",
       "       (b'Female', b'163', b'159', b'5'), (b'Male', b'179', b'152', b'5'),\n",
       "       (b'Male', b'153', b'121', b'5'), (b'Male', b'178', b'52', b'1'),\n",
       "       (b'Female', b'195', b'65', b'1'),\n",
       "       (b'Female', b'160', b'131', b'5'),\n",
       "       (b'Female', b'157', b'153', b'5'),\n",
       "       (b'Female', b'189', b'132', b'4'),\n",
       "       (b'Female', b'197', b'114', b'3'), (b'Male', b'144', b'80', b'4'),\n",
       "       (b'Female', b'171', b'152', b'5'),\n",
       "       (b'Female', b'185', b'81', b'2'),\n",
       "       (b'Female', b'175', b'120', b'4'),\n",
       "       (b'Female', b'149', b'108', b'5'), (b'Male', b'157', b'56', b'2'),\n",
       "       (b'Male', b'161', b'118', b'5'), (b'Female', b'182', b'126', b'4'),\n",
       "       (b'Male', b'185', b'76', b'2'), (b'Female', b'188', b'122', b'4'),\n",
       "       (b'Male', b'181', b'111', b'4'), (b'Male', b'161', b'72', b'3'),\n",
       "       (b'Male', b'140', b'152', b'5'), (b'Female', b'168', b'135', b'5'),\n",
       "       (b'Female', b'176', b'54', b'1'), (b'Male', b'163', b'110', b'5'),\n",
       "       (b'Male', b'172', b'105', b'4'), (b'Male', b'196', b'116', b'4'),\n",
       "       (b'Female', b'187', b'89', b'3'), (b'Male', b'172', b'92', b'4'),\n",
       "       (b'Male', b'178', b'127', b'5'), (b'Female', b'164', b'70', b'3'),\n",
       "       (b'Male', b'143', b'88', b'5'), (b'Female', b'191', b'54', b'0'),\n",
       "       (b'Female', b'141', b'143', b'5'), (b'Male', b'193', b'54', b'0'),\n",
       "       (b'Male', b'190', b'83', b'2'), (b'Male', b'175', b'135', b'5'),\n",
       "       (b'Female', b'179', b'158', b'5'),\n",
       "       (b'Female', b'172', b'96', b'4'), (b'Female', b'168', b'59', b'2'),\n",
       "       (b'Female', b'164', b'82', b'4'),\n",
       "       (b'Female', b'194', b'136', b'4'),\n",
       "       (b'Female', b'153', b'51', b'2'), (b'Male', b'178', b'117', b'4'),\n",
       "       (b'Male', b'141', b'80', b'5'), (b'Male', b'180', b'75', b'2'),\n",
       "       (b'Female', b'185', b'100', b'3'),\n",
       "       (b'Female', b'197', b'154', b'4'), (b'Male', b'165', b'104', b'4'),\n",
       "       (b'Female', b'168', b'90', b'4'),\n",
       "       (b'Female', b'176', b'122', b'4'), (b'Male', b'181', b'51', b'0'),\n",
       "       (b'Male', b'164', b'75', b'3'), (b'Female', b'166', b'140', b'5'),\n",
       "       (b'Female', b'190', b'105', b'3'), (b'Male', b'186', b'118', b'4'),\n",
       "       (b'Male', b'168', b'123', b'5'), (b'Male', b'198', b'50', b'0'),\n",
       "       (b'Female', b'175', b'141', b'5'), (b'Male', b'145', b'117', b'5'),\n",
       "       (b'Female', b'159', b'104', b'5'),\n",
       "       (b'Female', b'185', b'140', b'5'),\n",
       "       (b'Female', b'178', b'154', b'5'),\n",
       "       (b'Female', b'183', b'96', b'3'),\n",
       "       (b'Female', b'194', b'111', b'3'), (b'Male', b'177', b'61', b'2'),\n",
       "       (b'Male', b'197', b'119', b'4'), (b'Female', b'170', b'156', b'5'),\n",
       "       (b'Male', b'142', b'69', b'4'), (b'Male', b'160', b'139', b'5'),\n",
       "       (b'Male', b'195', b'69', b'1'), (b'Female', b'190', b'50', b'0'),\n",
       "       (b'Male', b'199', b'156', b'4'), (b'Male', b'154', b'105', b'5'),\n",
       "       (b'Male', b'161', b'155', b'5'), (b'Female', b'198', b'145', b'4'),\n",
       "       (b'Female', b'192', b'140', b'4'), (b'Male', b'195', b'126', b'4'),\n",
       "       (b'Male', b'166', b'160', b'5'), (b'Male', b'159', b'154', b'5'),\n",
       "       (b'Female', b'181', b'106', b'4'), (b'Male', b'149', b'66', b'3'),\n",
       "       (b'Female', b'150', b'70', b'4'),\n",
       "       (b'Female', b'146', b'157', b'5'), (b'Male', b'190', b'135', b'4'),\n",
       "       (b'Female', b'192', b'90', b'2'), (b'Female', b'177', b'96', b'4'),\n",
       "       (b'Male', b'148', b'60', b'3'), (b'Female', b'165', b'57', b'2'),\n",
       "       (b'Female', b'146', b'104', b'5'), (b'Male', b'144', b'108', b'5'),\n",
       "       (b'Female', b'176', b'156', b'5'),\n",
       "       (b'Female', b'168', b'87', b'4'), (b'Male', b'187', b'122', b'4'),\n",
       "       (b'Male', b'187', b'138', b'4'), (b'Female', b'184', b'160', b'5'),\n",
       "       (b'Female', b'158', b'149', b'5'), (b'Male', b'158', b'96', b'4'),\n",
       "       (b'Male', b'194', b'115', b'4'), (b'Female', b'145', b'79', b'4'),\n",
       "       (b'Male', b'182', b'151', b'5'), (b'Male', b'154', b'54', b'2'),\n",
       "       (b'Female', b'168', b'139', b'5'),\n",
       "       (b'Female', b'187', b'70', b'2'),\n",
       "       (b'Female', b'158', b'153', b'5'),\n",
       "       (b'Female', b'167', b'110', b'4'),\n",
       "       (b'Female', b'171', b'155', b'5'),\n",
       "       (b'Female', b'183', b'150', b'5'),\n",
       "       (b'Female', b'190', b'156', b'5'), (b'Male', b'194', b'108', b'3'),\n",
       "       (b'Male', b'171', b'147', b'5'), (b'Male', b'159', b'124', b'5'),\n",
       "       (b'Female', b'169', b'54', b'2'), (b'Female', b'167', b'85', b'4'),\n",
       "       (b'Male', b'180', b'149', b'5'), (b'Male', b'163', b'123', b'5'),\n",
       "       (b'Male', b'140', b'79', b'5'), (b'Male', b'197', b'125', b'4'),\n",
       "       (b'Male', b'194', b'106', b'3'), (b'Female', b'140', b'146', b'5'),\n",
       "       (b'Male', b'195', b'98', b'3'), (b'Female', b'168', b'115', b'3'),\n",
       "       (b'Female', b'196', b'50', b'0'), (b'Male', b'140', b'52', b'3'),\n",
       "       (b'Female', b'150', b'60', b'3'),\n",
       "       (b'Female', b'168', b'140', b'5'),\n",
       "       (b'Female', b'155', b'111', b'5'),\n",
       "       (b'Female', b'179', b'103', b'4'),\n",
       "       (b'Female', b'182', b'84', b'3'), (b'Male', b'168', b'160', b'5'),\n",
       "       (b'Female', b'187', b'102', b'3'), (b'Male', b'181', b'105', b'4'),\n",
       "       (b'Male', b'199', b'99', b'2'), (b'Female', b'184', b'76', b'2'),\n",
       "       (b'Male', b'192', b'101', b'3'), (b'Female', b'182', b'143', b'5'),\n",
       "       (b'Female', b'172', b'111', b'4'), (b'Male', b'181', b'78', b'2'),\n",
       "       (b'Male', b'176', b'109', b'4'), (b'Female', b'156', b'106', b'5'),\n",
       "       (b'Female', b'151', b'67', b'3'), (b'Female', b'188', b'80', b'2'),\n",
       "       (b'Male', b'187', b'136', b'4'), (b'Male', b'174', b'138', b'5'),\n",
       "       (b'Male', b'167', b'151', b'5'), (b'Female', b'196', b'131', b'4'),\n",
       "       (b'Male', b'197', b'149', b'4'), (b'Female', b'185', b'119', b'4'),\n",
       "       (b'Female', b'170', b'102', b'4'),\n",
       "       (b'Female', b'181', b'94', b'3'),\n",
       "       (b'Female', b'166', b'126', b'5'), (b'Male', b'188', b'100', b'3'),\n",
       "       (b'Female', b'162', b'74', b'3'), (b'Male', b'177', b'117', b'4'),\n",
       "       (b'Male', b'162', b'97', b'4'), (b'Male', b'180', b'73', b'2'),\n",
       "       (b'Female', b'192', b'108', b'3'), (b'Male', b'165', b'80', b'3'),\n",
       "       (b'Female', b'167', b'135', b'5'),\n",
       "       (b'Female', b'182', b'84', b'3'),\n",
       "       (b'Female', b'161', b'134', b'5'), (b'Male', b'158', b'95', b'4'),\n",
       "       (b'Male', b'141', b'85', b'5'), (b'Male', b'154', b'100', b'5'),\n",
       "       (b'Male', b'165', b'105', b'4'), (b'Female', b'142', b'137', b'5'),\n",
       "       (b'Male', b'141', b'94', b'5'), (b'Male', b'145', b'108', b'5'),\n",
       "       (b'Male', b'157', b'74', b'4'), (b'Female', b'177', b'117', b'4'),\n",
       "       (b'Female', b'166', b'144', b'5'), (b'Male', b'193', b'151', b'5'),\n",
       "       (b'Male', b'184', b'57', b'1'), (b'Male', b'179', b'93', b'3'),\n",
       "       (b'Female', b'156', b'89', b'4'), (b'Male', b'182', b'104', b'4'),\n",
       "       (b'Male', b'145', b'160', b'5'), (b'Female', b'150', b'87', b'4'),\n",
       "       (b'Male', b'145', b'99', b'5'), (b'Female', b'196', b'122', b'4'),\n",
       "       (b'Male', b'191', b'96', b'3'), (b'Female', b'148', b'67', b'4'),\n",
       "       (b'Female', b'150', b'84', b'4'), (b'Male', b'148', b'155', b'5'),\n",
       "       (b'Female', b'153', b'146', b'5'),\n",
       "       (b'Female', b'196', b'159', b'5'),\n",
       "       (b'Female', b'185', b'52', b'0'),\n",
       "       (b'Female', b'171', b'131', b'5'),\n",
       "       (b'Female', b'143', b'118', b'5'),\n",
       "       (b'Female', b'142', b'86', b'5'),\n",
       "       (b'Female', b'141', b'126', b'5'), (b'Male', b'159', b'109', b'5'),\n",
       "       (b'Female', b'173', b'82', b'2'), (b'Male', b'183', b'138', b'5'),\n",
       "       (b'Female', b'152', b'90', b'4'), (b'Male', b'178', b'140', b'5'),\n",
       "       (b'Male', b'188', b'54', b'0'), (b'Female', b'155', b'144', b'5'),\n",
       "       (b'Male', b'166', b'70', b'3'), (b'Male', b'188', b'123', b'4'),\n",
       "       (b'Female', b'171', b'120', b'5'), (b'Male', b'179', b'130', b'5'),\n",
       "       (b'Female', b'186', b'137', b'4'),\n",
       "       (b'Female', b'153', b'78', b'2'), (b'Female', b'184', b'86', b'3'),\n",
       "       (b'Female', b'177', b'81', b'3'), (b'Male', b'145', b'78', b'4'),\n",
       "       (b'Male', b'170', b'81', b'3'), (b'Male', b'181', b'141', b'5'),\n",
       "       (b'Male', b'165', b'155', b'5'), (b'Female', b'174', b'65', b'2'),\n",
       "       (b'Female', b'146', b'110', b'5'), (b'Male', b'178', b'85', b'3'),\n",
       "       (b'Male', b'166', b'61', b'2'), (b'Male', b'191', b'62', b'1'),\n",
       "       (b'Female', b'177', b'155', b'5'),\n",
       "       (b'Female', b'183', b'50', b'0'), (b'Male', b'151', b'114', b'5'),\n",
       "       (b'Male', b'182', b'98', b'3'), (b'Female', b'142', b'159', b'5'),\n",
       "       (b'Female', b'188', b'90', b'3'), (b'Male', b'161', b'89', b'4'),\n",
       "       (b'Male', b'153', b'70', b'3'), (b'Male', b'140', b'143', b'5'),\n",
       "       (b'Male', b'169', b'141', b'5'), (b'Female', b'162', b'159', b'5'),\n",
       "       (b'Male', b'183', b'147', b'5'), (b'Female', b'162', b'58', b'2'),\n",
       "       (b'Female', b'172', b'109', b'4'),\n",
       "       (b'Female', b'150', b'119', b'5'),\n",
       "       (b'Female', b'169', b'145', b'5'),\n",
       "       (b'Female', b'184', b'132', b'4'), (b'Male', b'159', b'104', b'5'),\n",
       "       (b'Male', b'163', b'131', b'5'), (b'Male', b'156', b'137', b'5'),\n",
       "       (b'Female', b'157', b'52', b'2'), (b'Male', b'147', b'84', b'4'),\n",
       "       (b'Male', b'141', b'86', b'5'), (b'Male', b'173', b'139', b'5'),\n",
       "       (b'Male', b'154', b'145', b'5'), (b'Male', b'168', b'148', b'5'),\n",
       "       (b'Male', b'168', b'50', b'1'), (b'Male', b'145', b'130', b'5'),\n",
       "       (b'Male', b'152', b'103', b'5'), (b'Female', b'187', b'121', b'4'),\n",
       "       (b'Female', b'163', b'57', b'0'), (b'Male', b'178', b'83', b'3'),\n",
       "       (b'Female', b'187', b'94', b'3'),\n",
       "       (b'Female', b'179', b'114', b'4'), (b'Male', b'190', b'80', b'2'),\n",
       "       (b'Male', b'172', b'75', b'3'), (b'Male', b'188', b'57', b'1'),\n",
       "       (b'Male', b'193', b'65', b'1'), (b'Female', b'147', b'126', b'5'),\n",
       "       (b'Female', b'147', b'94', b'5'), (b'Male', b'166', b'107', b'4'),\n",
       "       (b'Female', b'192', b'139', b'4'), (b'Male', b'181', b'139', b'4'),\n",
       "       (b'Male', b'150', b'74', b'4'), (b'Male', b'178', b'160', b'5'),\n",
       "       (b'Female', b'156', b'52', b'2'), (b'Male', b'149', b'100', b'5'),\n",
       "       (b'Male', b'156', b'74', b'4'), (b'Male', b'183', b'105', b'3'),\n",
       "       (b'Female', b'162', b'68', b'3'), (b'Female', b'165', b'83', b'4'),\n",
       "       (b'Female', b'168', b'143', b'5'), (b'Male', b'160', b'156', b'5'),\n",
       "       (b'Female', b'169', b'88', b'2'), (b'Female', b'140', b'76', b'4'),\n",
       "       (b'Female', b'187', b'92', b'3'), (b'Male', b'151', b'82', b'4'),\n",
       "       (b'Female', b'186', b'140', b'5'), (b'Male', b'182', b'108', b'4'),\n",
       "       (b'Male', b'188', b'81', b'2'), (b'Male', b'179', b'110', b'4'),\n",
       "       (b'Female', b'156', b'126', b'5'), (b'Male', b'188', b'114', b'4'),\n",
       "       (b'Male', b'183', b'153', b'5'), (b'Male', b'144', b'88', b'5'),\n",
       "       (b'Male', b'196', b'69', b'1'), (b'Male', b'171', b'141', b'5'),\n",
       "       (b'Male', b'171', b'147', b'5'), (b'Female', b'180', b'156', b'5'),\n",
       "       (b'Male', b'191', b'146', b'5'), (b'Female', b'179', b'67', b'2'),\n",
       "       (b'Female', b'180', b'60', b'2'),\n",
       "       (b'Female', b'154', b'132', b'5'), (b'Male', b'188', b'99', b'3'),\n",
       "       (b'Male', b'142', b'135', b'5'), (b'Male', b'170', b'95', b'4'),\n",
       "       (b'Male', b'152', b'141', b'5'), (b'Female', b'190', b'118', b'4'),\n",
       "       (b'Female', b'181', b'111', b'4'), (b'Male', b'153', b'104', b'5'),\n",
       "       (b'Male', b'187', b'140', b'5'), (b'Female', b'144', b'66', b'4'),\n",
       "       (b'Female', b'148', b'54', b'2'), (b'Female', b'199', b'92', b'2'),\n",
       "       (b'Female', b'167', b'85', b'4'), (b'Female', b'164', b'71', b'3'),\n",
       "       (b'Female', b'185', b'102', b'3'),\n",
       "       (b'Female', b'164', b'160', b'5'), (b'Male', b'142', b'71', b'4'),\n",
       "       (b'Male', b'165', b'68', b'2'), (b'Female', b'172', b'62', b'2'),\n",
       "       (b'Female', b'157', b'56', b'2'), (b'Male', b'155', b'57', b'2'),\n",
       "       (b'Female', b'167', b'153', b'5'),\n",
       "       (b'Female', b'164', b'126', b'5'),\n",
       "       (b'Female', b'189', b'125', b'4'),\n",
       "       (b'Female', b'161', b'145', b'5'),\n",
       "       (b'Female', b'155', b'71', b'3'),\n",
       "       (b'Female', b'171', b'118', b'4'),\n",
       "       (b'Female', b'154', b'92', b'4'), (b'Male', b'179', b'83', b'3'),\n",
       "       (b'Male', b'170', b'115', b'4'), (b'Female', b'184', b'106', b'4'),\n",
       "       (b'Female', b'191', b'68', b'2'), (b'Male', b'162', b'58', b'2'),\n",
       "       (b'Male', b'178', b'138', b'5'), (b'Female', b'157', b'60', b'2'),\n",
       "       (b'Male', b'184', b'83', b'2'), (b'Male', b'197', b'88', b'2'),\n",
       "       (b'Female', b'160', b'51', b'2'), (b'Male', b'184', b'153', b'5'),\n",
       "       (b'Male', b'190', b'50', b'0'), (b'Male', b'174', b'90', b'3'),\n",
       "       (b'Female', b'189', b'124', b'4'),\n",
       "       (b'Female', b'186', b'143', b'5'),\n",
       "       (b'Female', b'180', b'58', b'1'),\n",
       "       (b'Female', b'186', b'148', b'4'),\n",
       "       (b'Female', b'193', b'61', b'1'), (b'Male', b'161', b'103', b'4'),\n",
       "       (b'Female', b'151', b'158', b'5'),\n",
       "       (b'Female', b'195', b'147', b'4'),\n",
       "       (b'Female', b'184', b'152', b'5'), (b'Male', b'141', b'80', b'5'),\n",
       "       (b'Female', b'185', b'94', b'3'),\n",
       "       (b'Female', b'186', b'127', b'4'), (b'Male', b'142', b'131', b'5'),\n",
       "       (b'Female', b'147', b'67', b'4'), (b'Male', b'151', b'62', b'3'),\n",
       "       (b'Female', b'160', b'124', b'5'), (b'Male', b'185', b'60', b'1'),\n",
       "       (b'Female', b'163', b'63', b'2'), (b'Male', b'174', b'95', b'4'),\n",
       "       (b'Female', b'150', b'144', b'5'), (b'Male', b'142', b'91', b'5'),\n",
       "       (b'Male', b'178', b'142', b'5'), (b'Female', b'154', b'96', b'5'),\n",
       "       (b'Male', b'176', b'87', b'3'), (b'Male', b'159', b'120', b'5'),\n",
       "       (b'Male', b'191', b'62', b'1'), (b'Male', b'177', b'117', b'4'),\n",
       "       (b'Male', b'151', b'154', b'5'), (b'Female', b'182', b'149', b'5'),\n",
       "       (b'Female', b'197', b'72', b'2'), (b'Male', b'146', b'138', b'5'),\n",
       "       (b'Female', b'160', b'83', b'4'), (b'Female', b'157', b'66', b'3'),\n",
       "       (b'Female', b'150', b'50', b'2'), (b'Female', b'167', b'58', b'2'),\n",
       "       (b'Female', b'180', b'70', b'2'), (b'Female', b'183', b'76', b'2'),\n",
       "       (b'Female', b'183', b'87', b'3'),\n",
       "       (b'Female', b'152', b'154', b'5'),\n",
       "       (b'Female', b'164', b'71', b'3'), (b'Male', b'187', b'96', b'3'),\n",
       "       (b'Male', b'169', b'136', b'5'), (b'Female', b'149', b'61', b'3'),\n",
       "       (b'Male', b'163', b'137', b'5'), (b'Female', b'195', b'104', b'3'),\n",
       "       (b'Male', b'174', b'107', b'4'), (b'Male', b'182', b'70', b'2'),\n",
       "       (b'Male', b'169', b'110', b'4'), (b'Male', b'193', b'130', b'4'),\n",
       "       (b'Male', b'148', b'141', b'5'), (b'Male', b'186', b'68', b'2'),\n",
       "       (b'Male', b'165', b'143', b'5'), (b'Female', b'146', b'123', b'5'),\n",
       "       (b'Female', b'166', b'133', b'5'), (b'Male', b'179', b'56', b'1'),\n",
       "       (b'Female', b'177', b'101', b'4'), (b'Male', b'181', b'154', b'5'),\n",
       "       (b'Female', b'161', b'154', b'5'),\n",
       "       (b'Female', b'157', b'103', b'5'),\n",
       "       (b'Female', b'169', b'98', b'4'),\n",
       "       (b'Female', b'152', b'114', b'5'),\n",
       "       (b'Female', b'162', b'64', b'2'), (b'Male', b'162', b'130', b'5'),\n",
       "       (b'Female', b'177', b'61', b'2'), (b'Female', b'195', b'61', b'1'),\n",
       "       (b'Male', b'140', b'146', b'5'), (b'Female', b'186', b'146', b'5'),\n",
       "       (b'Female', b'178', b'107', b'4'), (b'Male', b'174', b'54', b'1'),\n",
       "       (b'Female', b'180', b'59', b'1'), (b'Male', b'188', b'141', b'4'),\n",
       "       (b'Female', b'187', b'130', b'4'),\n",
       "       (b'Female', b'153', b'77', b'4'), (b'Female', b'165', b'95', b'4'),\n",
       "       (b'Female', b'178', b'79', b'2'),\n",
       "       (b'Female', b'163', b'154', b'5'),\n",
       "       (b'Female', b'150', b'97', b'5'), (b'Male', b'179', b'127', b'4'),\n",
       "       (b'Male', b'165', b'62', b'2'), (b'Male', b'168', b'158', b'5'),\n",
       "       (b'Female', b'153', b'133', b'5'), (b'Male', b'184', b'157', b'5'),\n",
       "       (b'Male', b'188', b'65', b'1'), (b'Female', b'166', b'153', b'5'),\n",
       "       (b'Female', b'172', b'116', b'4'), (b'Male', b'182', b'73', b'2'),\n",
       "       (b'Male', b'143', b'149', b'5'), (b'Male', b'152', b'146', b'5'),\n",
       "       (b'Female', b'186', b'128', b'4'), (b'Male', b'159', b'140', b'5'),\n",
       "       (b'Male', b'146', b'70', b'4'), (b'Female', b'176', b'121', b'4'),\n",
       "       (b'Female', b'146', b'101', b'5'), (b'Male', b'159', b'145', b'5'),\n",
       "       (b'Male', b'162', b'157', b'5'), (b'Female', b'172', b'90', b'4'),\n",
       "       (b'Female', b'169', b'121', b'5'), (b'Male', b'182', b'50', b'0'),\n",
       "       (b'Female', b'183', b'79', b'2'), (b'Male', b'176', b'77', b'2'),\n",
       "       (b'Female', b'188', b'128', b'4'),\n",
       "       (b'Female', b'175', b'83', b'2'), (b'Male', b'154', b'81', b'4'),\n",
       "       (b'Female', b'184', b'147', b'5'), (b'Male', b'179', b'123', b'4'),\n",
       "       (b'Male', b'152', b'132', b'5'), (b'Male', b'179', b'56', b'1'),\n",
       "       (b'Female', b'145', b'141', b'5'),\n",
       "       (b'Female', b'181', b'80', b'2'), (b'Male', b'158', b'127', b'5'),\n",
       "       (b'Female', b'188', b'99', b'3'), (b'Male', b'145', b'142', b'5'),\n",
       "       (b'Male', b'161', b'115', b'5'), (b'Male', b'198', b'109', b'3'),\n",
       "       (b'Male', b'147', b'142', b'5'), (b'Male', b'154', b'112', b'5'),\n",
       "       (b'Female', b'178', b'65', b'2'), (b'Male', b'195', b'153', b'5'),\n",
       "       (b'Female', b'167', b'79', b'3'), (b'Male', b'183', b'131', b'4'),\n",
       "       (b'Female', b'164', b'142', b'5'), (b'Male', b'167', b'64', b'2'),\n",
       "       (b'Female', b'151', b'55', b'2'),\n",
       "       (b'Female', b'147', b'107', b'5'),\n",
       "       (b'Female', b'155', b'115', b'5'),\n",
       "       (b'Female', b'172', b'108', b'4'),\n",
       "       (b'Female', b'142', b'86', b'5'), (b'Male', b'146', b'85', b'4'),\n",
       "       (b'Female', b'188', b'115', b'4'), (b'Male', b'173', b'111', b'4'),\n",
       "       (b'Female', b'160', b'109', b'5'), (b'Male', b'187', b'80', b'2'),\n",
       "       (b'Male', b'198', b'136', b'4'), (b'Female', b'179', b'150', b'5'),\n",
       "       (b'Female', b'164', b'59', b'2'),\n",
       "       (b'Female', b'146', b'147', b'5'),\n",
       "       (b'Female', b'198', b'50', b'0'), (b'Female', b'170', b'53', b'1'),\n",
       "       (b'Male', b'152', b'98', b'5'), (b'Female', b'150', b'153', b'5'),\n",
       "       (b'Female', b'184', b'121', b'4'),\n",
       "       (b'Female', b'141', b'136', b'5'), (b'Male', b'150', b'95', b'5'),\n",
       "       (b'Male', b'173', b'131', b'5')],\n",
       "      dtype=[('Gender', 'O'), ('Height', 'O'), ('Weight', 'O'), ('Index', 'O')])"
      ]
     },
     "execution_count": 6,
     "metadata": {},
     "output_type": "execute_result"
    }
   ],
   "source": [
    "import os\n",
    "# Import `height-weight` keeping the text column intact.\n",
    "url = os.path.join('..', 'datasets', '500_Person_Gender_Height_Weight_Index.csv')\n",
    "hw_dataset = np.genfromtxt(url, delimiter=',', names=True, dtype='object')\n",
    "hw_dataset"
   ]
  },
  {
   "cell_type": "markdown",
   "metadata": {},
   "source": [
    "Otherwise you can import the \"500_Person_Gender_Height_Weight_Index\" with the correct datatypes for the numeric values, specifying `dtype` for each column."
   ]
  },
  {
   "cell_type": "code",
   "execution_count": 7,
   "metadata": {},
   "outputs": [
    {
     "data": {
      "text/plain": [
       "array([(b'Male', 174.,  96., 4), (b'Male', 189.,  87., 2),\n",
       "       (b'Female', 185., 110., 4), (b'Female', 195., 104., 3)],\n",
       "      dtype=[('Gender', 'S15'), ('Height', '<f8'), ('Weight', '<f8'), ('Index', '<i8')])"
      ]
     },
     "execution_count": 7,
     "metadata": {},
     "output_type": "execute_result"
    }
   ],
   "source": [
    "url = os.path.join('..', 'datasets', '500_Person_Gender_Height_Weight_Index.csv')\n",
    "hw_dataset = np.genfromtxt(\n",
    "    url, delimiter=',', names=True, dtype=[ '|S15', np.float, np.float, np.int]\n",
    ")\n",
    "hw_dataset[:4]"
   ]
  },
  {
   "cell_type": "markdown",
   "metadata": {},
   "source": [
    "### 5. How to convert a 1d array of tuples to a 2d numpy array\n",
    "\n",
    "Convert the `hw_dataset` to a numeric-only 2D array `hw_data` by omitting the \"Gender\" text column and the \"Index\" numeric field. Create a `hw_label` 1D array containing only the \"Gender\" text field. Keep the same indexing/order as in the original array."
   ]
  },
  {
   "cell_type": "code",
   "execution_count": 8,
   "metadata": {},
   "outputs": [],
   "source": [
    "# Write your solution here"
   ]
  },
  {
   "cell_type": "markdown",
   "metadata": {},
   "source": [
    "### 6. Split the datasets in two groups\n",
    "\n",
    "Split the dataset in `hw_data` according to the labels in `hw_labels`. Hint: You can create a dictionary with the two different labels (\"Male\" and \"Female\") as keys, and the two split datasets as values"
   ]
  },
  {
   "cell_type": "code",
   "execution_count": 9,
   "metadata": {},
   "outputs": [],
   "source": [
    "# Write your solution here\n",
    "\n"
   ]
  },
  {
   "cell_type": "markdown",
   "metadata": {},
   "source": [
    "### 7. Compute the monovariate statistics for each group\n",
    "\n",
    "For each label compute the key statistics for both weight and height. \n",
    "- mean\n",
    "- median\n",
    "- standard deviation\n",
    "- variance\n",
    "- interquartile range\n",
    "\n",
    "Read carefully the numpy documentation for the statistics routines.\n",
    "Answer to the following questions:\n",
    "\n",
    "1) Which is the gender with the highest mean value for `height`?\n",
    "\n",
    "2) Which is the gender with the smallest median value for `weight`?\n",
    "\n",
    "3) Which is the gender with the shortest interquartile range for `weight`?"
   ]
  },
  {
   "cell_type": "code",
   "execution_count": null,
   "metadata": {},
   "outputs": [],
   "source": [
    "# Write your solution here\n",
    "\n"
   ]
  },
  {
   "cell_type": "markdown",
   "metadata": {},
   "source": [
    "### 8. Compute the covarance and correlation matrix for each group\n",
    "\n",
    "1) Compute the `height`-`weight` covariance matrix for each gender. Are the values on the diagonal matching the values computed with the variance functions in the previous step? If not, can you understand why, and how you can obtain coherent values?\n",
    "\n",
    "2) Compute the `height`-`weight` correlation matrix for each gender."
   ]
  },
  {
   "cell_type": "code",
   "execution_count": null,
   "metadata": {},
   "outputs": [],
   "source": [
    "# Compute the covariance matrix here:\n",
    "\n"
   ]
  },
  {
   "cell_type": "code",
   "execution_count": null,
   "metadata": {},
   "outputs": [],
   "source": [
    "# Compute the correlation matrix here\n",
    "\n"
   ]
  },
  {
   "cell_type": "markdown",
   "metadata": {},
   "source": [
    "### 9. How to create a new column from existing columns of a numpy array\n",
    "\n",
    "Create a new column for \"Mass-body Index\" (\"MBI\")  in `hw_data`, where MBI is:\n",
    "\n",
    "$$MBI =  \\frac{weight [kg]}{(height [m])^2}$$\n",
    "\n"
   ]
  },
  {
   "cell_type": "code",
   "execution_count": null,
   "metadata": {},
   "outputs": [],
   "source": [
    "# Compute MBI here:\n",
    "\n"
   ]
  },
  {
   "cell_type": "markdown",
   "metadata": {},
   "source": [
    "### 10. Convert a quantitative variable to a categorical one\n",
    "\n",
    "Now create an array `hw_mbi_labels` where you assign each record in `hw_data` to one of these categories: \n",
    "    - 'UNDERWEIGHT': MBI < 18.5\n",
    "    - 'NORMAL': 18.5 =< MBI < 25 \n",
    "    - 'OVERWEIGHT': 25 =< MBI < 30\n",
    "    - 'OBESE': MBI >= 30\n",
    "    \n",
    "Then, count the number of occurrences of each category per gender."
   ]
  },
  {
   "cell_type": "code",
   "execution_count": null,
   "metadata": {},
   "outputs": [],
   "source": [
    "# Label the record here\n",
    "# Hint: write a function to assign labels to the record then use the numpy appropriate function \n",
    "# to apply the function to each row\n",
    "\n"
   ]
  },
  {
   "cell_type": "markdown",
   "metadata": {},
   "source": [
    "### 11. Compute the frequencies of each category within genders\n",
    "\n",
    "Compute the percentages of the four categories ('UNDERWEIGHT', 'NORMAL', 'OVERWEIGHT', 'OBESE'), and anwer these questions:\n",
    "\n",
    "- Which gender has the highest percentage of 'OBESE' subjects\n",
    "- Which gender has the highest petcentahe of 'subjects that are neither 'OVERWEIGHT' nor 'OBESE'?"
   ]
  },
  {
   "cell_type": "code",
   "execution_count": null,
   "metadata": {},
   "outputs": [],
   "source": [
    "# Compute the percentages here:\n",
    "\n"
   ]
  },
  {
   "cell_type": "markdown",
   "metadata": {},
   "source": [
    "### 12. Normalize an array so the values range exactly between 0 and 1\n",
    "\n",
    "Normalization is an important pre-processing step before feeding a dataset to a data science (e.g a machine learning) algorithm.\n",
    "Create a normalized form of `hw_data`'s \"height\" and \"weight\" whose values range exactly between 0 and 1 so that the minimum has value 0 and maximum has value 1."
   ]
  },
  {
   "cell_type": "code",
   "execution_count": null,
   "metadata": {},
   "outputs": [],
   "source": [
    "# Write your solution here \n",
    "\n"
   ]
  },
  {
   "cell_type": "markdown",
   "metadata": {},
   "source": [
    "You will be able to find more exercises on numpy here: https://www.machinelearningplus.com/python/101-numpy-exercises-python/"
   ]
  }
 ],
 "metadata": {
  "kernelspec": {
   "display_name": "Python 3",
   "language": "python",
   "name": "python3"
  },
  "language_info": {
   "codemirror_mode": {
    "name": "ipython",
    "version": 3
   },
   "file_extension": ".py",
   "mimetype": "text/x-python",
   "name": "python",
   "nbconvert_exporter": "python",
   "pygments_lexer": "ipython3",
   "version": "3.7.3"
  }
 },
 "nbformat": 4,
 "nbformat_minor": 2
}
