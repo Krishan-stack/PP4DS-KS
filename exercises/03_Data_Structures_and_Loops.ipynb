{
 "cells": [
  {
   "cell_type": "markdown",
   "metadata": {},
   "source": [
    "# Exercise 3: Data Structures, Functions and Loops\n",
    "\n",
    "In this week's exercise, you'll learn how to:\n",
    "\n",
    "1. write functions that manipulate data structures such as lists and dictionaries\n",
    "2. master list comprehension and dict comprehension\n",
    "3. compute operations on matrices represented as lists of lists"
   ]
  },
  {
   "cell_type": "markdown",
   "metadata": {},
   "source": [
    "## Lists"
   ]
  },
  {
   "cell_type": "markdown",
   "metadata": {},
   "source": [
    "### 3.1 Write a Python function to sum all the numbers in a list.\n",
    "\n",
    "Write a function to sum all number in a list without using the `sum()` built-in method. Hint: use a `for..in` cycle instead.\n",
    "\n",
    "Sample list: `[9, 12, 7, 19]`\n",
    "\n",
    "Expected output: 47"
   ]
  },
  {
   "cell_type": "code",
   "execution_count": null,
   "metadata": {},
   "outputs": [],
   "source": [
    "# Write your function here:\n",
    "# Hint: do not use the name `sum` for your function because it would overwrite the built-in sum() method\n"
   ]
  },
  {
   "cell_type": "code",
   "execution_count": 2,
   "metadata": {},
   "outputs": [],
   "source": [
    "# Test your function here\n"
   ]
  },
  {
   "cell_type": "markdown",
   "metadata": {},
   "source": [
    "### 3.2 Write a Python program to count the number of elements in a list within a specified range.\n",
    "\n",
    "Sample list: `[10,20,30,40,40,40,70,80,99]`\n",
    "\n",
    "Sample min: `15`\n",
    "\n",
    "Sample max: `50`\n",
    "\n",
    "Expected output: `5`"
   ]
  },
  {
   "cell_type": "code",
   "execution_count": 3,
   "metadata": {},
   "outputs": [],
   "source": [
    "# Write your function here:\n"
   ]
  },
  {
   "cell_type": "code",
   "execution_count": 4,
   "metadata": {},
   "outputs": [],
   "source": [
    "# Test your function here\n"
   ]
  },
  {
   "cell_type": "markdown",
   "metadata": {},
   "source": [
    "### 3.3 List Manipulation\n",
    "\n",
    "From the given list:\n",
    "\n",
    "```\n",
    "gadgets = [“Mobile”, “Laptop”, 100, “Camera”, 310.28, “Speakers”, 27.00,\n",
    "“Television”, 1000, “Laptop Case”, “Camera Lens”]\n",
    "```\n",
    "\n",
    "a)create separate lists of strings and numbers.\n",
    " \n",
    "b)Sort the strings list in ascending order\n",
    " \n",
    "c)Sort the strings list in descending order\n",
    " \n",
    "d)Sort the number list from lowest to highest\n",
    " \n",
    "e)Sort the number list from highest to lowest"
   ]
  },
  {
   "cell_type": "code",
   "execution_count": 17,
   "metadata": {},
   "outputs": [],
   "source": [
    "# Write your solution here:\n",
    "\n",
    "gadgets = [\"Mobile\", \"Laptop\", 100, \"Camera\", 310.28, \"Speakers\", 27.00, \n",
    "           \"Television\", 1000, \"Laptop Case\", \"Camera Lens\"]\n",
    " \n",
    "\n",
    "# Write your solutions here \n",
    " \n",
    "# a)creating separate lists\n",
    " \n",
    "# b)sorting strings list in ascending order, a-z\n",
    "\n",
    "# c)sorting strings list in descending order z-a\n",
    "  \n",
    "# d)sorting number list from lowest to highest\n",
    " \n",
    "# e)sorting number list from highest to lowest\n",
    " "
   ]
  },
  {
   "cell_type": "markdown",
   "metadata": {},
   "source": [
    "## Dictionaries\n",
    "\n"
   ]
  },
  {
   "cell_type": "markdown",
   "metadata": {},
   "source": [
    "### 3.4 Dictionary manipulation\n",
    "\n",
    "Write a function that takes a dictionary as input and retuns the mean (i.e. average value) of the values stored in the dictionary\n",
    "\n",
    "```\n",
    "Sample Dictionary = Life expectancy by country = {\n",
    "    'Japan': 83.7,\n",
    "    'Switzerland': 83.4,\n",
    "    'Singapore': 83.1,\n",
    "    'Italy': 82.7,\n",
    "    'Israel': 82.5,\n",
    "    'Netherlands': 81.9,\n",
    "    'United Kingdom': 81.2,\n",
    "    'Cyprus': 80.5,\n",
    "    'Chile': 80.5,\n",
    "    'United States: 79.3,\n",
    "    'Argentina': 76.3,\n",
    "    'Iran': 75.5,\n",
    "    'Jordan': 74.1,\n",
    "    'Russia': 70.5,\n",
    "    'Philippines': 68.5,\n",
    "    'India': 68.3\n",
    "}\n",
    "```"
   ]
  },
  {
   "cell_type": "code",
   "execution_count": 18,
   "metadata": {},
   "outputs": [],
   "source": [
    "# Write your function here:\n"
   ]
  },
  {
   "cell_type": "code",
   "execution_count": 19,
   "metadata": {},
   "outputs": [],
   "source": [
    "# Test your code here:\n"
   ]
  },
  {
   "cell_type": "markdown",
   "metadata": {},
   "source": [
    "### 3.5 Dictionary sorting\n",
    "\n",
    "Write a program that sorts by key in descending order (from Z to A) the dictionary of **exercise 3.4**. \n",
    "\n",
    "Hint: inspect the Python built-in functions (https://docs.python.org/3.7/library/functions.html)"
   ]
  },
  {
   "cell_type": "code",
   "execution_count": 20,
   "metadata": {},
   "outputs": [],
   "source": [
    "# Write your program here\n"
   ]
  },
  {
   "cell_type": "markdown",
   "metadata": {},
   "source": [
    "### 3.6 Lists to Dictionary\n",
    "\n",
    "Write a program (or function) that maps two lists into a dictionary\n",
    "\n",
    "Sample first list: ```['Japan', 'Italy', 'United Kingdom', 'Russia']```\n",
    "\n",
    "Sample second list: ```[83.7, 82.7, 81.2, 70.5]```"
   ]
  },
  {
   "cell_type": "code",
   "execution_count": 21,
   "metadata": {},
   "outputs": [],
   "source": [
    "# Write your program here\n"
   ]
  },
  {
   "cell_type": "markdown",
   "metadata": {},
   "source": [
    "## Tuples"
   ]
  },
  {
   "cell_type": "markdown",
   "metadata": {},
   "source": [
    "### 3.7 Write a Python program to get the 4th element and 4th element from last of a tuple.\n",
    "\n",
    "Sample input\n",
    "\n",
    "```\n",
    "tuplex = (\"we\", 3, \"are\", \"left\", 4.8, \"our\", \"u\", \"www.ox.ac.uk\", \"core\", \"empty\")\n",
    "```"
   ]
  },
  {
   "cell_type": "code",
   "execution_count": 22,
   "metadata": {},
   "outputs": [],
   "source": [
    "# Write your solution here \n"
   ]
  },
  {
   "cell_type": "markdown",
   "metadata": {},
   "source": [
    "### 3.8  Write a Python program to convert a list of tuples to a dictionary.\n",
    "\n",
    "Sample input: ```[(28, 'February'), (30, 'April'), (31, 'July'), (31, 'August'), (30, 'November')]```\n",
    "\n",
    "Sample output ```{'February': 28, 'April': 30, 'July': 31, 'August': 31, 'November': 30}```"
   ]
  },
  {
   "cell_type": "code",
   "execution_count": 23,
   "metadata": {},
   "outputs": [],
   "source": [
    "# Write your program here\n"
   ]
  },
  {
   "cell_type": "markdown",
   "metadata": {},
   "source": [
    "## `for` loops, list comprehension, dict comprehension"
   ]
  },
  {
   "cell_type": "markdown",
   "metadata": {},
   "source": [
    "### 3.9 List comprehension\n",
    "\n",
    "Rewrite the following code using list comprehension"
   ]
  },
  {
   "cell_type": "code",
   "execution_count": 24,
   "metadata": {},
   "outputs": [
    {
     "name": "stdout",
     "output_type": "stream",
     "text": [
      "['the', 'quick', 'brown', 'fox', 'jumps', 'over', 'the', 'lazy', 'dog']\n",
      "[5, 5, 3, 5, 4, 4, 3]\n"
     ]
    }
   ],
   "source": [
    "# Code to be rewritten\n",
    "\n",
    "sentence = \"the quick brown fox jumps over the lazy dog\"\n",
    "words = sentence.split()\n",
    "word_lengths = []\n",
    "for word in words:\n",
    "      if word != \"the\":\n",
    "          word_lengths.append(len(word))\n",
    "print(words)\n",
    "print(word_lengths)"
   ]
  },
  {
   "cell_type": "code",
   "execution_count": 25,
   "metadata": {},
   "outputs": [],
   "source": [
    "# Write your solution here\n"
   ]
  },
  {
   "cell_type": "markdown",
   "metadata": {},
   "source": [
    "### 3.10 List filtering\n",
    "\n",
    "Using a list comprehension, create a new list called \"newlist\" out of the list \"numbers\", which contains only the positive numbers from the list, as integers rounded to the closest integer value."
   ]
  },
  {
   "cell_type": "code",
   "execution_count": 26,
   "metadata": {},
   "outputs": [],
   "source": [
    "### Input\n",
    "\n",
    "numbers = [34.6, -203.4, 44.9, 68.3, -12.2, 44.6, 12.7]\n",
    "\n",
    "### Write your solution here\n"
   ]
  },
  {
   "cell_type": "markdown",
   "metadata": {},
   "source": [
    "### 3.11 Matrix Element Wise-multiplication\n",
    "\n",
    "Matrices can be encoded as numerical two-dimensional lists\n",
    "Consider the two following matrices \n",
    "\n",
    "```\n",
    "mat_00 = [[1, 2, 3], [4, 5, 6], [7, 8, 9]]\n",
    "```\n",
    "and\n",
    "```\n",
    "mat_01 = [[1, 0, 0], [0, 1, 0], [0, 0, 1]]\n",
    "```\n",
    "\n",
    "Compute the element-wise multiplication of the two matrices, i.e.\n",
    "\n",
    "```\n",
    "mat_02 = [[1, 0, 0], [0, 5, 0], [0, 0, 9]]\n",
    "```"
   ]
  },
  {
   "cell_type": "code",
   "execution_count": 27,
   "metadata": {},
   "outputs": [],
   "source": [
    "mat_00 = [[1, 2, 3], [4, 5, 6], [7, 8, 9]]\n",
    "mat_01 = [[1, 0, 0], [0, 1, 0], [0, 0, 1]]\n",
    "\n",
    "## Write your solution here:\n"
   ]
  },
  {
   "cell_type": "markdown",
   "metadata": {},
   "source": [
    "### 3.12 Matrix-Matrix Multiplication\n",
    "\n",
    "Consider the following two matrices\n",
    "\n",
    "```\n",
    "mat_00 = [[2, 1, 3], [1, 1, 2]]\n",
    "```\n",
    "and\n",
    "```\n",
    "A = [[1, 2], [5, 6], [7, 9]]\n",
    "```\n",
    "\n",
    "Compute the matrix multiplication, i.e.:\n",
    "```\n",
    "B = [[28 37] [20 26]]\n",
    "```\n",
    "\n"
   ]
  },
  {
   "cell_type": "code",
   "execution_count": 28,
   "metadata": {},
   "outputs": [],
   "source": [
    "A = [[2, 1, 3], [1, 1, 2]]\n",
    "B = [[1, 2], [5, 6], [7, 9]]\n",
    "\n",
    "# Write your solution here\n"
   ]
  },
  {
   "cell_type": "markdown",
   "metadata": {},
   "source": [
    "### 3.13 Dict comprehension\n",
    "\n",
    "Consider these four lists:\n",
    "```\n",
    "fellowship_names = ['gandalf', 'frodo', 'samwise', 'merry', 'aragorn', 'legolas', 'boromir', 'gimli', 'pippin']\n",
    "```\n",
    "```\n",
    "fellowship_surnames = [\n",
    "    'mithrandir', 'baggins', 'gamgee', 'brandybuck', 'elessar', \n",
    "    'greenleaf', 'son of denethor', 'son of gloin', 'took'\n",
    "]\n",
    "```\n",
    "```\n",
    "fellowship_species = ['maia', 'hobbit', 'hobbit', 'hobbit', 'man', 'elf', 'man', 'dwarf', 'hobbit']\n",
    "```\n",
    "```\n",
    "fellowship_ages = [inf, 51, 36, 37, 88, 800, 41, 140, 29]\n",
    "```\n",
    "\n",
    "1) Produce a dictionary with the mapping `fellowship_name` -> `fellowship_age`, pairing each element with the same index in the two lists\n",
    "\n",
    "2) Produce a dictionary with the mapping `(fellowship_name, fellowship_surname)` -> `fellowship_species`, pairing each element with the same index in the three lists"
   ]
  },
  {
   "cell_type": "code",
   "execution_count": 29,
   "metadata": {},
   "outputs": [],
   "source": [
    "from math import inf\n",
    "\n",
    "fellowship_names = ['gandalf', 'frodo', 'samwise', 'merry', 'aragorn', \n",
    "                    'legolas', 'boromir', 'gimli', 'pippin']\n",
    "fellowship_surnames = [\n",
    "    'mithrandir', 'baggins', 'gamgee', 'brandybuck', 'elessar', \n",
    "    'greenleaf', 'son of denethor', 'son of gloin', 'took'\n",
    "]\n",
    "fellowship_species = ['maia', 'hobbit', 'hobbit', 'hobbit', 'man', 'elf', 'man', 'dwarf', 'hobbit']\n",
    "\n",
    "fellowship_ages = [inf, 51, 36, 37, 88, 800, 41, 140, 29]\n",
    "\n",
    "# Write your solution here\n"
   ]
  },
  {
   "cell_type": "code",
   "execution_count": null,
   "metadata": {},
   "outputs": [],
   "source": []
  }
 ],
 "metadata": {
  "kernelspec": {
   "display_name": "Python 3",
   "language": "python",
   "name": "python3"
  },
  "language_info": {
   "codemirror_mode": {
    "name": "ipython",
    "version": 3
   },
   "file_extension": ".py",
   "mimetype": "text/x-python",
   "name": "python",
   "nbconvert_exporter": "python",
   "pygments_lexer": "ipython3",
   "version": "3.8.8"
  }
 },
 "nbformat": 4,
 "nbformat_minor": 2
}
