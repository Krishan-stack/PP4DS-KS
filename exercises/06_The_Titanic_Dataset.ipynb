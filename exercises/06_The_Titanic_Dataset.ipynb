{
 "cells": [
  {
   "cell_type": "markdown",
   "id": "2d8a3ed8",
   "metadata": {},
   "source": [
    "# Exploring the Titanic Dataset\n",
    "\n",
    "Exploratory analysis using the Titanic dataset.\n",
    "\n",
    "Read more about the titanic dataset here: https://www.kaggle.com/c/titanic"
   ]
  },
  {
   "cell_type": "code",
   "execution_count": 8,
   "id": "dfff03ab",
   "metadata": {},
   "outputs": [],
   "source": [
    "import pandas as pd\n",
    "\n",
    "pd.set_option('precision', 3)\n",
    "\n",
    "titanic_df = pd.read_csv(\"../datasets/titanic-dataset.csv\")"
   ]
  },
  {
   "cell_type": "code",
   "execution_count": 12,
   "id": "898e90d4",
   "metadata": {},
   "outputs": [],
   "source": [
    "import os\n",
    "import pandas as pd\n",
    "file_path = os.path.join(\"..\", \"datasets\", \"titanic-dataset.csv\")\n",
    "titanic_df = pd.read_csv(file_path)"
   ]
  },
  {
   "cell_type": "markdown",
   "id": "e026cd90",
   "metadata": {},
   "source": [
    "# Data Exploration\n",
    "\n",
    "Have a look at the dataset. These should be the variables in it:\n",
    "    \n",
    "    * survival: Survival (0 = No; 1 = Yes)\n",
    "    * pclass: Passenger Class (1 = 1st; 2 = 2nd; 3 = 3rd)\n",
    "    * name: Name\n",
    "    * sex: Sex\n",
    "    * age: Age\n",
    "    * sibsp: Number of Siblings/Spouses Aboard\n",
    "    * parch: Number of Parents/Children Aboard\n",
    "    * ticket: Ticket Number\n",
    "    * fare: Passenger Fare\n",
    "    * cabin: Cabin\n",
    "    * embarked: Port of Embarkation (C = Cherbourg; Q = Queenstown; S = Southampton)\n",
    "        \n",
    "**pclass**: A proxy for socio-economic status (SES) 1st = Upper 2nd = Middle 3rd = Lower\n",
    "\n",
    "**age**: Age is fractional if less than 1. If the age is estimated, is it in the form of xx.5\n",
    "\n",
    "**sibsp**: The dataset defines family relations in this way… Sibling = brother, sister, stepbrother, stepsister Spouse = husband, wife (mistresses and fiancés were ignored)\n",
    "\n",
    "**parch**: The dataset defines family relations in this way… Parent = mother, father Child = daughter, son, stepdaughter, stepson Some children travelled only with a nanny, therefore parch=0 for them."
   ]
  },
  {
   "cell_type": "markdown",
   "id": "81f12de4",
   "metadata": {},
   "source": [
    "### Excercise 1: Data cleanup\n",
    "\n",
    "Identify quantitative, categorical and ordinal variables.\n",
    "\n",
    "Identify if there are columns with missing values and decide how to deal with them.\n",
    "\n",
    "You could either remove the column, or replace the missing values with a sensible **robust** estimate"
   ]
  },
  {
   "cell_type": "code",
   "execution_count": 9,
   "id": "5fed827f",
   "metadata": {},
   "outputs": [
    {
     "data": {
      "text/html": [
       "<div>\n",
       "<style scoped>\n",
       "    .dataframe tbody tr th:only-of-type {\n",
       "        vertical-align: middle;\n",
       "    }\n",
       "\n",
       "    .dataframe tbody tr th {\n",
       "        vertical-align: top;\n",
       "    }\n",
       "\n",
       "    .dataframe thead th {\n",
       "        text-align: right;\n",
       "    }\n",
       "</style>\n",
       "<table border=\"1\" class=\"dataframe\">\n",
       "  <thead>\n",
       "    <tr style=\"text-align: right;\">\n",
       "      <th></th>\n",
       "      <th>PassengerId</th>\n",
       "      <th>Survived</th>\n",
       "      <th>Pclass</th>\n",
       "      <th>Name</th>\n",
       "      <th>Sex</th>\n",
       "      <th>Age</th>\n",
       "      <th>SibSp</th>\n",
       "      <th>Parch</th>\n",
       "      <th>Ticket</th>\n",
       "      <th>Fare</th>\n",
       "      <th>Cabin</th>\n",
       "      <th>Embarked</th>\n",
       "    </tr>\n",
       "  </thead>\n",
       "  <tbody>\n",
       "    <tr>\n",
       "      <th>686</th>\n",
       "      <td>687</td>\n",
       "      <td>0</td>\n",
       "      <td>3</td>\n",
       "      <td>Panula, Mr. Jaako Arnold</td>\n",
       "      <td>male</td>\n",
       "      <td>14.0</td>\n",
       "      <td>4</td>\n",
       "      <td>1</td>\n",
       "      <td>3101295</td>\n",
       "      <td>39.688</td>\n",
       "      <td>NaN</td>\n",
       "      <td>S</td>\n",
       "    </tr>\n",
       "    <tr>\n",
       "      <th>444</th>\n",
       "      <td>445</td>\n",
       "      <td>1</td>\n",
       "      <td>3</td>\n",
       "      <td>Johannesen-Bratthammer, Mr. Bernt</td>\n",
       "      <td>male</td>\n",
       "      <td>NaN</td>\n",
       "      <td>0</td>\n",
       "      <td>0</td>\n",
       "      <td>65306</td>\n",
       "      <td>8.113</td>\n",
       "      <td>NaN</td>\n",
       "      <td>S</td>\n",
       "    </tr>\n",
       "    <tr>\n",
       "      <th>594</th>\n",
       "      <td>595</td>\n",
       "      <td>0</td>\n",
       "      <td>2</td>\n",
       "      <td>Chapman, Mr. John Henry</td>\n",
       "      <td>male</td>\n",
       "      <td>37.0</td>\n",
       "      <td>1</td>\n",
       "      <td>0</td>\n",
       "      <td>SC/AH 29037</td>\n",
       "      <td>26.000</td>\n",
       "      <td>NaN</td>\n",
       "      <td>S</td>\n",
       "    </tr>\n",
       "    <tr>\n",
       "      <th>207</th>\n",
       "      <td>208</td>\n",
       "      <td>1</td>\n",
       "      <td>3</td>\n",
       "      <td>Albimona, Mr. Nassef Cassem</td>\n",
       "      <td>male</td>\n",
       "      <td>26.0</td>\n",
       "      <td>0</td>\n",
       "      <td>0</td>\n",
       "      <td>2699</td>\n",
       "      <td>18.788</td>\n",
       "      <td>NaN</td>\n",
       "      <td>C</td>\n",
       "    </tr>\n",
       "    <tr>\n",
       "      <th>668</th>\n",
       "      <td>669</td>\n",
       "      <td>0</td>\n",
       "      <td>3</td>\n",
       "      <td>Cook, Mr. Jacob</td>\n",
       "      <td>male</td>\n",
       "      <td>43.0</td>\n",
       "      <td>0</td>\n",
       "      <td>0</td>\n",
       "      <td>A/5 3536</td>\n",
       "      <td>8.050</td>\n",
       "      <td>NaN</td>\n",
       "      <td>S</td>\n",
       "    </tr>\n",
       "  </tbody>\n",
       "</table>\n",
       "</div>"
      ],
      "text/plain": [
       "     PassengerId  Survived  Pclass                               Name   Sex  \\\n",
       "686          687         0       3           Panula, Mr. Jaako Arnold  male   \n",
       "444          445         1       3  Johannesen-Bratthammer, Mr. Bernt  male   \n",
       "594          595         0       2            Chapman, Mr. John Henry  male   \n",
       "207          208         1       3        Albimona, Mr. Nassef Cassem  male   \n",
       "668          669         0       3                    Cook, Mr. Jacob  male   \n",
       "\n",
       "      Age  SibSp  Parch       Ticket    Fare Cabin Embarked  \n",
       "686  14.0      4      1      3101295  39.688   NaN        S  \n",
       "444   NaN      0      0        65306   8.113   NaN        S  \n",
       "594  37.0      1      0  SC/AH 29037  26.000   NaN        S  \n",
       "207  26.0      0      0         2699  18.788   NaN        C  \n",
       "668  43.0      0      0     A/5 3536   8.050   NaN        S  "
      ]
     },
     "execution_count": 9,
     "metadata": {},
     "output_type": "execute_result"
    }
   ],
   "source": [
    "titanic_df.sample(5)"
   ]
  },
  {
   "cell_type": "code",
   "execution_count": 10,
   "id": "e58695ab",
   "metadata": {},
   "outputs": [
    {
     "name": "stdout",
     "output_type": "stream",
     "text": [
      "<class 'pandas.core.frame.DataFrame'>\n",
      "RangeIndex: 891 entries, 0 to 890\n",
      "Data columns (total 12 columns):\n",
      " #   Column       Non-Null Count  Dtype  \n",
      "---  ------       --------------  -----  \n",
      " 0   PassengerId  891 non-null    int64  \n",
      " 1   Survived     891 non-null    int64  \n",
      " 2   Pclass       891 non-null    int64  \n",
      " 3   Name         891 non-null    object \n",
      " 4   Sex          891 non-null    object \n",
      " 5   Age          714 non-null    float64\n",
      " 6   SibSp        891 non-null    int64  \n",
      " 7   Parch        891 non-null    int64  \n",
      " 8   Ticket       891 non-null    object \n",
      " 9   Fare         891 non-null    float64\n",
      " 10  Cabin        204 non-null    object \n",
      " 11  Embarked     889 non-null    object \n",
      "dtypes: float64(2), int64(5), object(5)\n",
      "memory usage: 83.7+ KB\n"
     ]
    }
   ],
   "source": [
    "titanic_df."
   ]
  },
  {
   "cell_type": "markdown",
   "id": "45a5264d",
   "metadata": {},
   "source": [
    "## Exercise 2: How Survival is correlated to other attributes of the dataset ? Find out the correlation coefficient.\n",
    "\n",
    "You can also draw plots showing the correlation coefficient between variable"
   ]
  },
  {
   "cell_type": "code",
   "execution_count": null,
   "id": "95af295e",
   "metadata": {},
   "outputs": [],
   "source": []
  },
  {
   "cell_type": "code",
   "execution_count": null,
   "id": "8081cf12",
   "metadata": {},
   "outputs": [],
   "source": [
    "ATTRS = [\"Age\", \"SibSp\",\"Parch\", \"Fare\"]\n",
    "# scatter matrix"
   ]
  },
  {
   "cell_type": "markdown",
   "id": "7e4c8070",
   "metadata": {},
   "source": [
    "## Exercise 3: Did Sex play a role in Survival?\n",
    "\n",
    "Advanced: you could also make sure that there are no other factors (e.g. age) confounding the impact of sex in survival.\n",
    "\n",
    "For instance if a greater share of women than men were very old and their survival rate were lower this may be due to age factors rather than to sex."
   ]
  },
  {
   "cell_type": "code",
   "execution_count": null,
   "id": "362a79ee",
   "metadata": {},
   "outputs": [],
   "source": []
  },
  {
   "cell_type": "markdown",
   "id": "b78b73cf",
   "metadata": {},
   "source": [
    "## Exercise 4: Did class played role in survival ?"
   ]
  },
  {
   "cell_type": "code",
   "execution_count": null,
   "id": "a1ab881c",
   "metadata": {},
   "outputs": [],
   "source": []
  },
  {
   "cell_type": "markdown",
   "id": "3916eceb",
   "metadata": {},
   "source": [
    "## Exercise 5: Did being alone onboard play a role in survival ?\n",
    "\n",
    "Think of how you can extract the alone variable from the existing ones."
   ]
  },
  {
   "cell_type": "code",
   "execution_count": null,
   "id": "9758b3a8",
   "metadata": {},
   "outputs": [],
   "source": []
  }
 ],
 "metadata": {
  "kernelspec": {
   "display_name": "Python 3",
   "language": "python",
   "name": "python3"
  },
  "language_info": {
   "codemirror_mode": {
    "name": "ipython",
    "version": 3
   },
   "file_extension": ".py",
   "mimetype": "text/x-python",
   "name": "python",
   "nbconvert_exporter": "python",
   "pygments_lexer": "ipython3",
   "version": "3.8.8"
  }
 },
 "nbformat": 4,
 "nbformat_minor": 5
}
